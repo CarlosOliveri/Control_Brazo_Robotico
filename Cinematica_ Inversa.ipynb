{
 "cells": [
  {
   "cell_type": "code",
   "execution_count": 3,
   "metadata": {},
   "outputs": [],
   "source": [
    "import numpy as np\n",
    "import serial, time"
   ]
  },
  {
   "cell_type": "code",
   "execution_count": 4,
   "metadata": {},
   "outputs": [],
   "source": [
    "l1=20.2 #milimetros\n",
    "l2=16.0\n",
    "l3=19.5\n",
    "l4=6.715"
   ]
  },
  {
   "cell_type": "code",
   "execution_count": 5,
   "metadata": {},
   "outputs": [],
   "source": [
    "A01 = lambda q1: np.array([ [np.cos(q1),    0, np.sin(q1),     0],\n",
    "                            [np.sin(q1),    0, -np.cos(q1),    0],\n",
    "                            [     0,        1,       0,       l1],\n",
    "                            [     0,        0,       0,        1]])\n",
    "A12 = lambda q2: np.array([ [-np.sin(q2), -np.cos(q2),   0,  -l2*np.sin(q2)],\n",
    "                            [np.cos(q2), -np.sin(q2),    0,  l2*np.cos(q2)],\n",
    "                            [       0,                  0,              1,                      0],\n",
    "                            [       0,                  0,              0,                      1]])\n",
    "A23 = lambda q3: np.array([ [np.sin(q3), 0, np.cos(q3),    0],\n",
    "                            [-np.cos(q3), 0,  np.sin(q3),    0],\n",
    "                            [     0,            -1,       0,  0],\n",
    "                            [     0,             0,       0,  1]])\n",
    "A34 = lambda q4: np.array([ [np.cos(q4),    0,  np.sin(q4), 0],\n",
    "                            [np.sin(q4),    0, -np.cos(q4), 0],\n",
    "                            [     0,        1,       0,    l3],\n",
    "                            [     0,        0,       0,     1]])\n",
    "A45 = lambda q5: np.array([ [np.cos(q5),    0,  -np.sin(q5), 0],\n",
    "                            [np.sin(q5),    0, np.cos(q5), 0],\n",
    "                            [     0,                -1,          0,          0],\n",
    "                            [     0,                0,          0,          1]])\n",
    "A56 = lambda q6: np.array([ [np.cos(q6), -np.sin(q6), 0,        0],\n",
    "                            [np.sin(q6),  np.cos(q6), 0,        0],\n",
    "                            [     0,         0,       1,       l4],\n",
    "                            [     0,         0,       0,        1]])\n",
    "T = lambda phi,theta,thi: np.array([[np.cos(phi)*np.cos(theta), np.cos(phi)*np.sin(theta)*np.sin(thi)-np.sin(phi)*np.sin(thi), np.cos(phi)*np.sin(theta)*np.cos(thi)+np.sin(phi)*np.sin(thi), 0],\n",
    "                                    [np.sin(phi)*np.cos(theta), np.sin(phi)*np.sin(theta)*np.sin(thi)+np.cos(phi)*np.cos(thi), np.sin(phi)*np.sin(theta)*np.cos(thi)-np.cos(phi)*np.sin(thi), 0],\n",
    "                                    [       -np.sin(theta),                 np.cos(theta)*np.sin(thi),                              np.cos(theta)*np.cos(thi),                                0],\n",
    "                                    [             0,                                     0,                                                      0,                                           1]])\n"
   ]
  },
  {
   "cell_type": "markdown",
   "metadata": {},
   "source": [
    "Cinematica Directa"
   ]
  },
  {
   "cell_type": "code",
   "execution_count": 45,
   "metadata": {},
   "outputs": [],
   "source": [
    "def direct_kinematics(q1,q2,q3,q4,q5,q6):\n",
    "    _0A2 = np.dot(A01(q1),A12(q2))\n",
    "    _0A3 = np.dot(_0A2,A23(q3))\n",
    "    _0A4 = np.dot(_0A3,A34(q4))\n",
    "    _0A5 = np.dot(_0A4,A45(q5))\n",
    "    _0A6 = np.dot(_0A5,A56(q6))\n",
    "    return _0A6 "
   ]
  },
  {
   "cell_type": "markdown",
   "metadata": {},
   "source": [
    "Cinemativa Inversa"
   ]
  },
  {
   "cell_type": "code",
   "execution_count": 6,
   "metadata": {},
   "outputs": [],
   "source": [
    "def inverse_kinematics_P1(x, y, z, a, b, g):\n",
    "    signoQ3=-1\n",
    "    codo = 1\n",
    "    \n",
    "    #Calculo del vector de orientacion del eje de la herramienta con respecto al eje de la base Angulos de Euler\n",
    "    alpha=a*np.pi/180.0\n",
    "    beta=b*np.pi/180.0\n",
    "    gamma=g*np.pi/180.0\n",
    "    Transform = T(alpha, beta, gamma) #Matriz de tranformacion directa\n",
    "    \n",
    "    n = Transform[0,0:3]\n",
    "    o = Transform[1,0:3]\n",
    "    a = Transform[2,0:3]\n",
    "\n",
    "    #Calculo de punto muñeca\n",
    "    pmx = x - l4*a[0]\n",
    "    pmy = y - l4*a[1]\n",
    "    pmz = z - l4*a[2] - l1\n",
    "        \n",
    "    print(\"Punto Muñeca Calculado: \")       \n",
    "    print(pmx,pmy,pmz) #debug\n",
    "    \n",
    "    # Halla q1\n",
    "    q1 = np.arctan2(pmy,pmx)\n",
    "    if q1 > np.pi or q1 < -np.pi:\n",
    "        print(\"fuera del rango\")\n",
    "        return None\n",
    "    \n",
    "    #q3\n",
    "    cosq3=(pmx**2+pmy**2+pmz**2-l2**2-l3**2)/(2*l2*l3)\n",
    "    sinq3=(signoQ3)*np.sqrt(1-cosq3**2)\n",
    "    q3=np.arctan2(sinq3,cosq3)\n",
    "    if q3 > np.pi/1.9 or q3 < -np.pi/1.9:\n",
    "        signoQ3*=-1\n",
    "        sinq3=(signoQ3)*np.sqrt(1-cosq3**2)\n",
    "        q3=np.arctan2(sinq3,cosq3)\n",
    "        if q3 > np.pi/1.9 or q3 < -np.pi/1.9:\n",
    "            print(\"fuera del rango\")\n",
    "            return None\n",
    "    #print(q3)\n",
    "    \n",
    "    #q2\n",
    "    q2=(np.arctan2(pmz,(codo*np.sqrt(pmx**2+pmy**2))) - np.arctan2((l3*sinq3),(l2+l3*cosq3)))-np.pi/2\n",
    "    if q2 > np.pi/1.9 or q2 < -np.pi/1.9:\n",
    "        codo*=-1\n",
    "        q2=(np.arctan2(pmz,(codo*np.sqrt(pmx**2+pmy**2))) - np.arctan2((l3*sinq3),(l2+l3*cosq3)))-np.pi/2\n",
    "        if q2 > np.pi/1.9 or q2 < -np.pi/1.9:\n",
    "            print(\"fuera del rango\")\n",
    "            return None\n",
    "    #print(q2)\n",
    "    \n",
    "    cosq1=np.cos(q1)\n",
    "    cosq2=np.cos(q2)\n",
    "    sinq1=np.sin(q1)\n",
    "    sinq2=np.sin(q2) \n",
    "\n",
    "    q5=np.arccos(-a[0]*cosq1*(cosq2*sinq3+cosq3*sinq2)-a[1]*sinq1*(cosq2*sinq3+cosq3*sinq2)+a[2]*(cosq2*cosq3-sinq2*sinq3))\n",
    "    if q5 > np.pi/2 or q5 < -np.pi/2:\n",
    "        print(\"Q5 fuera del rango\")\n",
    "        return None\n",
    "    sinq5=np.sin(q5)\n",
    "\n",
    "    q4=np.arctan2((cosq1*a[1]-sinq1*a[0]),abs(a[2]*(cosq2*sinq3+cosq3*sinq2)+(cosq2*cosq3-sinq2*sinq3)*(a[1]*sinq1+a[0]*cosq1)))\n",
    "\n",
    "    sinq4=np.sin(q4)\n",
    "    cosq4=np.cos(q4)\n",
    "\n",
    "    q6=np.arcsin(n[0]*(-2*cosq4*sinq1+cosq1*sinq4*(-cosq2*cosq3+sinq2*sinq3))+n[1]*(cosq1*cosq4+sinq1*sinq4*(sinq2*sinq3-cosq2*cosq3))-n[2]*sinq4*(cosq2*sinq3+cosq3*sinq2))\n",
    "    \n",
    "    q1 = np.degrees(q1).round(decimals=3)\n",
    "    q2 = np.degrees(q2).round(decimals=3)\n",
    "    q3 = np.degrees(q3).round(decimals=3)\n",
    "    q4 = np.degrees(q4).round(decimals=3)\n",
    "    q5 = np.degrees(q5).round(decimals=3)\n",
    "    q6 = np.degrees(q6).round(decimals=3)\n",
    "    print(\"q1: \", str(q1))\n",
    "    print(\"q2: \", str(q2))\n",
    "    print(\"q3: \", str(q3))\n",
    "    print(\"q4: \", str(q4))\n",
    "    print(\"q5: \", str(q5))\n",
    "    print(\"q6: \", str(q6))\n",
    "\n",
    "    return q1, q2, q3, q4, q5, q6\n"
   ]
  },
  {
   "cell_type": "code",
   "execution_count": 19,
   "metadata": {},
   "outputs": [],
   "source": [
    "def inverse_kinematics_G1(x, y, z):\n",
    "    signoQ3=-1\n",
    "    codo = 1\n",
    "\n",
    "    #Calculo de punto muñeca\n",
    "    pmx = x\n",
    "    pmy = y\n",
    "    pmz = z -l1\n",
    "        \n",
    "    print(\"Punto Muñeca Calculado: \")       \n",
    "    print(pmx,pmy,pmz) #debug\n",
    "    \n",
    "    # Halla q1\n",
    "    q1 = np.arctan2(pmy,pmx)\n",
    "    if q1 > np.pi or q1 < -np.pi:\n",
    "        print(\"fuera del rango\")\n",
    "        return None\n",
    "    \n",
    "    #q3\n",
    "    \n",
    "    cosq3=(pmx**2+pmy**2+pmz**2-l2**2-l3**2)/(2*l2*l3)\n",
    "    sinq3=(signoQ3)*np.sqrt(1-cosq3**2)\n",
    "    q3=np.arctan2(sinq3,cosq3)\n",
    "    if q3 > np.pi/1.9 or q3 < -np.pi/1.9:\n",
    "        signoQ3*=-1\n",
    "        sinq3=(signoQ3)*np.sqrt(1-cosq3**2)\n",
    "        q3=np.arctan2(sinq3,cosq3)\n",
    "        if q3 > np.pi/1.9 or q3 < -np.pi/1.9:\n",
    "            print(\"fuera del rango\")\n",
    "            return None\n",
    "    #print(q3)\n",
    "    \n",
    "    #q2\n",
    "    aa = np.arctan2(pmz,np.sqrt(pmx**2+pmy**2))\n",
    "    u = np.sqrt(pmx**2 + pmy**2 + pmz**2)\n",
    "    q22 = np.pi/2 - (np.arccos((l2**2+u**2-l3**2)/(2*l2*u))+aa)\n",
    "    q33 = np.pi - np.arccos((l2**2 + l3**2 - u**2) / (2 * l2 * l3))\n",
    "    print(\"q2,q3\")\n",
    "    print(np.degrees(q22).round(decimals = 3),np.degrees(q33).round(decimals = 3))\n",
    "    \n",
    "    q2=(np.arctan2(pmz,(codo*np.sqrt(pmx**2+pmy**2))) - np.arctan2((l3*sinq3),(l2+l3*cosq3)))-np.pi/2\n",
    "    if q2 > np.pi/1.9 or q2 < -np.pi/1.9:\n",
    "        codo*=-1\n",
    "        q2=(np.arctan2(pmz,(codo*np.sqrt(pmx**2+pmy**2))) - np.arctan2((l3*sinq3),(l2+l3*cosq3)))-np.pi/2\n",
    "        if q2 > np.pi/1.9 or q2 < -np.pi/1.9:\n",
    "            print(\"fuera del rango\")\n",
    "            return None\n",
    "    #print(q2)\n",
    "    \n",
    "    q1 = np.degrees(q1).round(decimals=3)\n",
    "    q2 = np.degrees(q2).round(decimals=3)\n",
    "    q3 = np.degrees(q3).round(decimals=3)\n",
    "    print(\"q1: \", str(q1))\n",
    "    print(\"q2: \", str(q2))\n",
    "    print(\"q3: \", str(q3))\n",
    "\n",
    "    return q1, q2, q3\n"
   ]
  },
  {
   "cell_type": "markdown",
   "metadata": {},
   "source": [
    "Programa Principal\n",
    "26.215 0 36.2 0 -90 0\n",
    "-26.215 0 36.2 0 90 0 "
   ]
  },
  {
   "cell_type": "code",
   "execution_count": 52,
   "metadata": {},
   "outputs": [
    {
     "name": "stdout",
     "output_type": "stream",
     "text": [
      "['G1', '0', '0', '55.7', '1']\n",
      "[0.0, 0.0, 55.7]\n",
      "Punto Muñeca Calculado: \n",
      "0.0 0.0 35.5\n",
      "q1:  0.0\n",
      "q2:  0.0\n",
      "q3:  -0.0\n"
     ]
    }
   ],
   "source": [
    "msg = input(\"[Escriba el comando] => \")\n",
    "msg = msg.strip()\n",
    "msg = msg.split()\n",
    "print(msg)\n",
    "for k in range(1,len(msg)-1):\n",
    "    msg[k] = float(msg[k])\n",
    "funcion = msg[0]\n",
    "type = msg[-1]\n",
    "\n",
    "if funcion == \"P1\":\n",
    "    pr = msg[1:4]\n",
    "    orient = msg[4:7]\n",
    "    q1, q2, q3, q4, q5, q6 = inverse_kinematics_P1(pr[0], pr[1], pr[2], orient[0], orient[1], orient[2])\n",
    "if funcion == \"G1\":\n",
    "    pr = msg[1:4]\n",
    "    print(pr)\n",
    "    q1, q2, q3 = inverse_kinematics_G1(pr[0], pr[1], pr[2])\n",
    "if funcion == \"G2\":\n",
    "    print(msg)\n"
   ]
  },
  {
   "cell_type": "code",
   "execution_count": 20,
   "metadata": {},
   "outputs": [
    {
     "name": "stdout",
     "output_type": "stream",
     "text": [
      "Punto Muñeca Calculado: \n",
      "23.09 19.379 16.36\n",
      "q2,q3\n",
      "44.966 30.056\n",
      "q1:  40.006\n",
      "q2:  -44.966\n",
      "q3:  -30.056\n"
     ]
    },
    {
     "data": {
      "text/plain": [
       "(40.006, -44.966, -30.056)"
      ]
     },
     "execution_count": 20,
     "metadata": {},
     "output_type": "execute_result"
    }
   ],
   "source": [
    "inverse_kinematics_G1(23.09, 19.379, 16.36)\n",
    "#G1 16.38 19.53 23.95 1\n",
    "#P1 26.215 0 36.2 0 -90 0 1"
   ]
  },
  {
   "cell_type": "code",
   "execution_count": 74,
   "metadata": {},
   "outputs": [
    {
     "name": "stdout",
     "output_type": "stream",
     "text": [
      "Punto Muñeca Calculado: \n",
      "19.5 0.0 16.000000000000004\n",
      "q1:  0.0\n",
      "q2:  0.0\n",
      "q3:  -90.0\n",
      "q4:  0.0\n",
      "q5:  0.0\n",
      "q6:  -0.0\n"
     ]
    },
    {
     "data": {
      "text/plain": [
       "(0.0, 0.0, -90.0, 0.0, 0.0, -0.0)"
      ]
     },
     "execution_count": 74,
     "metadata": {},
     "output_type": "execute_result"
    }
   ],
   "source": [
    "#inverse_kinematics_P1(l3+l4, 0, l1+l2, 0, -90, 0)\n",
    "inverse_kinematics_P1(26.215,0,36.2,0,-90,0)\n",
    "#P1 26.215 0 36.2 0 -90 0 1"
   ]
  },
  {
   "cell_type": "code",
   "execution_count": 9,
   "metadata": {},
   "outputs": [
    {
     "name": "stdout",
     "output_type": "stream",
     "text": [
      "Punto Muñeca Calculado: \n",
      "-194.99999999999997 0.0 160.0\n",
      "-1.5707963267948968\n",
      "4.440892098500626e-16\n",
      "q1:  180.0\n",
      "q2:  0.0\n",
      "q3:  -90.0\n",
      "q4:  39.294\n",
      "q5:  0.0\n",
      "q6:  39.294\n"
     ]
    },
    {
     "data": {
      "text/plain": [
       "(180.0, 0.0, -90.0, 39.294, 0.0, 39.294)"
      ]
     },
     "execution_count": 9,
     "metadata": {},
     "output_type": "execute_result"
    }
   ],
   "source": [
    "inverse_kinematics(-l3-l4, 0, l1+l2, 0, 90, 0)"
   ]
  },
  {
   "cell_type": "code",
   "execution_count": 10,
   "metadata": {},
   "outputs": [
    {
     "name": "stdout",
     "output_type": "stream",
     "text": [
      "Punto Muñeca Calculado: \n",
      "0.0 0.0 355.0\n",
      "-0.0\n",
      "0.0\n",
      "q1:  0.0\n",
      "q2:  0.0\n",
      "q3:  -0.0\n",
      "q4:  0.0\n",
      "q5:  0.0\n",
      "q6:  0.0\n"
     ]
    },
    {
     "data": {
      "text/plain": [
       "(0.0, 0.0, -0.0, 0.0, 0.0, 0.0)"
      ]
     },
     "execution_count": 10,
     "metadata": {},
     "output_type": "execute_result"
    }
   ],
   "source": [
    "inverse_kinematics(0, 0, l3+l4+l1+l2, 0, 0, 0)"
   ]
  },
  {
   "cell_type": "code",
   "execution_count": 11,
   "metadata": {},
   "outputs": [
    {
     "name": "stdout",
     "output_type": "stream",
     "text": [
      "Punto Muñeca Calculado: \n",
      "0.0 0.0 345.0\n",
      "-0.4782090726265804\n",
      "0.2631333577383086\n",
      "q1:  0.0\n",
      "q2:  15.076\n",
      "q3:  -27.399\n",
      "q4:  0.0\n",
      "q5:  12.323\n",
      "q6:  0.0\n"
     ]
    },
    {
     "data": {
      "text/plain": [
       "(0.0, 15.076, -27.399, 0.0, 12.323, 0.0)"
      ]
     },
     "execution_count": 11,
     "metadata": {},
     "output_type": "execute_result"
    }
   ],
   "source": [
    "inverse_kinematics(0, 0, l3+l4+l1+l2-10, 0, 0, 0)"
   ]
  }
 ],
 "metadata": {
  "kernelspec": {
   "display_name": ".venv",
   "language": "python",
   "name": "python3"
  },
  "language_info": {
   "codemirror_mode": {
    "name": "ipython",
    "version": 3
   },
   "file_extension": ".py",
   "mimetype": "text/x-python",
   "name": "python",
   "nbconvert_exporter": "python",
   "pygments_lexer": "ipython3",
   "version": "3.11.4"
  }
 },
 "nbformat": 4,
 "nbformat_minor": 2
}
