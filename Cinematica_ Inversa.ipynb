{
 "cells": [
  {
   "cell_type": "code",
   "execution_count": 48,
   "metadata": {},
   "outputs": [],
   "source": [
    "import numpy as np\n",
    "import serial, time\n",
    "import math\n",
    "from scipy.interpolate import CubicSpline\n",
    "import matplotlib.pyplot as plt"
   ]
  },
  {
   "cell_type": "code",
   "execution_count": 4,
   "metadata": {},
   "outputs": [],
   "source": [
    "l1=20.2 #milimetros\n",
    "l2=16.0\n",
    "l3=19.5\n",
    "l4=6.715"
   ]
  },
  {
   "cell_type": "code",
   "execution_count": 5,
   "metadata": {},
   "outputs": [],
   "source": [
    "A01 = lambda q1: np.array([ [np.cos(q1),    0, np.sin(q1),     0],\n",
    "                            [np.sin(q1),    0, -np.cos(q1),    0],\n",
    "                            [     0,        1,       0,       l1],\n",
    "                            [     0,        0,       0,        1]])\n",
    "A12 = lambda q2: np.array([ [-np.sin(q2), -np.cos(q2),   0,  -l2*np.sin(q2)],\n",
    "                            [np.cos(q2), -np.sin(q2),    0,  l2*np.cos(q2)],\n",
    "                            [       0,                  0,              1,                      0],\n",
    "                            [       0,                  0,              0,                      1]])\n",
    "A23 = lambda q3: np.array([ [np.sin(q3), 0, np.cos(q3),    0],\n",
    "                            [-np.cos(q3), 0,  np.sin(q3),    0],\n",
    "                            [     0,            -1,       0,  0],\n",
    "                            [     0,             0,       0,  1]])\n",
    "A34 = lambda q4: np.array([ [np.cos(q4),    0,  np.sin(q4), 0],\n",
    "                            [np.sin(q4),    0, -np.cos(q4), 0],\n",
    "                            [     0,        1,       0,    l3],\n",
    "                            [     0,        0,       0,     1]])\n",
    "A45 = lambda q5: np.array([ [np.cos(q5),    0,  -np.sin(q5), 0],\n",
    "                            [np.sin(q5),    0, np.cos(q5), 0],\n",
    "                            [     0,                -1,          0,          0],\n",
    "                            [     0,                0,          0,          1]])\n",
    "A56 = lambda q6: np.array([ [np.cos(q6), -np.sin(q6), 0,        0],\n",
    "                            [np.sin(q6),  np.cos(q6), 0,        0],\n",
    "                            [     0,         0,       1,       l4],\n",
    "                            [     0,         0,       0,        1]])\n",
    "T = lambda phi,theta,thi: np.array([[np.cos(phi)*np.cos(theta), np.cos(phi)*np.sin(theta)*np.sin(thi)-np.sin(phi)*np.sin(thi), np.cos(phi)*np.sin(theta)*np.cos(thi)+np.sin(phi)*np.sin(thi), 0],\n",
    "                                    [np.sin(phi)*np.cos(theta), np.sin(phi)*np.sin(theta)*np.sin(thi)+np.cos(phi)*np.cos(thi), np.sin(phi)*np.sin(theta)*np.cos(thi)-np.cos(phi)*np.sin(thi), 0],\n",
    "                                    [       -np.sin(theta),                 np.cos(theta)*np.sin(thi),                              np.cos(theta)*np.cos(thi),                                0],\n",
    "                                    [             0,                                     0,                                                      0,                                           1]])\n"
   ]
  },
  {
   "cell_type": "markdown",
   "metadata": {},
   "source": [
    "Cinematica Directa"
   ]
  },
  {
   "cell_type": "code",
   "execution_count": 45,
   "metadata": {},
   "outputs": [],
   "source": [
    "def direct_kinematics(q1,q2,q3,q4,q5,q6):\n",
    "    _0A2 = np.dot(A01(q1),A12(q2))\n",
    "    _0A3 = np.dot(_0A2,A23(q3))\n",
    "    _0A4 = np.dot(_0A3,A34(q4))\n",
    "    _0A5 = np.dot(_0A4,A45(q5))\n",
    "    _0A6 = np.dot(_0A5,A56(q6))\n",
    "    return _0A6 "
   ]
  },
  {
   "cell_type": "markdown",
   "metadata": {},
   "source": [
    "Cinemativa Inversa"
   ]
  },
  {
   "cell_type": "code",
   "execution_count": 6,
   "metadata": {},
   "outputs": [],
   "source": [
    "def inverse_kinematics_P1(x, y, z, a, b, g):\n",
    "    signoQ3=-1\n",
    "    codo = 1\n",
    "    \n",
    "    #Calculo del vector de orientacion del eje de la herramienta con respecto al eje de la base Angulos de Euler\n",
    "    alpha=a*np.pi/180.0\n",
    "    beta=b*np.pi/180.0\n",
    "    gamma=g*np.pi/180.0\n",
    "    Transform = T(alpha, beta, gamma) #Matriz de tranformacion directa\n",
    "    \n",
    "    n = Transform[0,0:3]\n",
    "    o = Transform[1,0:3]\n",
    "    a = Transform[2,0:3]\n",
    "\n",
    "    #Calculo de punto muñeca\n",
    "    pmx = x - l4*a[0]\n",
    "    pmy = y - l4*a[1]\n",
    "    pmz = z - l4*a[2] - l1\n",
    "        \n",
    "    print(\"Punto Muñeca Calculado: \")       \n",
    "    print(pmx,pmy,pmz) #debug\n",
    "    \n",
    "    # Halla q1\n",
    "    q1 = np.arctan2(pmy,pmx)\n",
    "    if q1 > np.pi or q1 < -np.pi:\n",
    "        print(\"fuera del rango\")\n",
    "        return None\n",
    "    \n",
    "    #q3\n",
    "    cosq3=(pmx**2+pmy**2+pmz**2-l2**2-l3**2)/(2*l2*l3)\n",
    "    sinq3=(signoQ3)*np.sqrt(1-cosq3**2)\n",
    "    q3=np.arctan2(sinq3,cosq3)\n",
    "    if q3 > np.pi/1.9 or q3 < -np.pi/1.9:\n",
    "        signoQ3*=-1\n",
    "        sinq3=(signoQ3)*np.sqrt(1-cosq3**2)\n",
    "        q3=np.arctan2(sinq3,cosq3)\n",
    "        if q3 > np.pi/1.9 or q3 < -np.pi/1.9:\n",
    "            print(\"fuera del rango\")\n",
    "            return None\n",
    "    #print(q3)\n",
    "    \n",
    "    #q2\n",
    "    q2=(np.arctan2(pmz,(codo*np.sqrt(pmx**2+pmy**2))) - np.arctan2((l3*sinq3),(l2+l3*cosq3)))-np.pi/2\n",
    "    if q2 > np.pi/1.9 or q2 < -np.pi/1.9:\n",
    "        codo*=-1\n",
    "        q2=(np.arctan2(pmz,(codo*np.sqrt(pmx**2+pmy**2))) - np.arctan2((l3*sinq3),(l2+l3*cosq3)))-np.pi/2\n",
    "        if q2 > np.pi/1.9 or q2 < -np.pi/1.9:\n",
    "            print(\"fuera del rango\")\n",
    "            return None\n",
    "    #print(q2)\n",
    "    \n",
    "    cosq1=np.cos(q1)\n",
    "    cosq2=np.cos(q2)\n",
    "    sinq1=np.sin(q1)\n",
    "    sinq2=np.sin(q2) \n",
    "\n",
    "    q5=np.arccos(-a[0]*cosq1*(cosq2*sinq3+cosq3*sinq2)-a[1]*sinq1*(cosq2*sinq3+cosq3*sinq2)+a[2]*(cosq2*cosq3-sinq2*sinq3))\n",
    "    if q5 > np.pi/2 or q5 < -np.pi/2:\n",
    "        print(\"Q5 fuera del rango\")\n",
    "        return None\n",
    "    sinq5=np.sin(q5)\n",
    "\n",
    "    q4=np.arctan2((cosq1*a[1]-sinq1*a[0]),abs(a[2]*(cosq2*sinq3+cosq3*sinq2)+(cosq2*cosq3-sinq2*sinq3)*(a[1]*sinq1+a[0]*cosq1)))\n",
    "\n",
    "    sinq4=np.sin(q4)\n",
    "    cosq4=np.cos(q4)\n",
    "\n",
    "    q6=np.arcsin(n[0]*(-2*cosq4*sinq1+cosq1*sinq4*(-cosq2*cosq3+sinq2*sinq3))+n[1]*(cosq1*cosq4+sinq1*sinq4*(sinq2*sinq3-cosq2*cosq3))-n[2]*sinq4*(cosq2*sinq3+cosq3*sinq2))\n",
    "    \n",
    "    q1 = np.degrees(q1).round(decimals=3)\n",
    "    q2 = np.degrees(q2).round(decimals=3)\n",
    "    q3 = np.degrees(q3).round(decimals=3)\n",
    "    q4 = np.degrees(q4).round(decimals=3)\n",
    "    q5 = np.degrees(q5).round(decimals=3)\n",
    "    q6 = np.degrees(q6).round(decimals=3)\n",
    "    print(\"q1: \", str(q1))\n",
    "    print(\"q2: \", str(q2))\n",
    "    print(\"q3: \", str(q3))\n",
    "    print(\"q4: \", str(q4))\n",
    "    print(\"q5: \", str(q5))\n",
    "    print(\"q6: \", str(q6))\n",
    "\n",
    "    return q1, q2, q3, q4, q5, q6\n"
   ]
  },
  {
   "cell_type": "code",
   "execution_count": 22,
   "metadata": {},
   "outputs": [],
   "source": [
    "def inverse_kinematics_G1(x, y, z):\n",
    "    signoQ3=-1\n",
    "    codo = 1\n",
    "\n",
    "    #Calculo de punto muñeca\n",
    "    pmx = x\n",
    "    pmy = y\n",
    "    pmz = z -l1\n",
    "        \n",
    "    print(\"Punto Muñeca Calculado: \")       \n",
    "    print(pmx,pmy,pmz) #debug\n",
    "    \n",
    "    # Halla q1\n",
    "    q1 = np.arctan2(pmy,pmx)\n",
    "    if q1 > np.pi or q1 < -np.pi:\n",
    "        print(\"fuera del rango\")\n",
    "        return None\n",
    "    \n",
    "    #q3\n",
    "    \n",
    "    cosq3=(pmx**2+pmy**2+pmz**2-l2**2-l3**2)/(2*l2*l3)\n",
    "    sinq3=(signoQ3)*np.sqrt(1-cosq3**2)\n",
    "    q3=np.arctan2(sinq3,cosq3)\n",
    "    if q3 > np.pi/1.9 or q3 < -np.pi/1.9:\n",
    "        signoQ3*=-1\n",
    "        sinq3=(signoQ3)*np.sqrt(1-cosq3**2)\n",
    "        q3=np.arctan2(sinq3,cosq3)\n",
    "        if q3 > np.pi/1.9 or q3 < -np.pi/1.9:\n",
    "            print(\"fuera del rango\")\n",
    "            return None\n",
    "    #print(q3)\n",
    "    \n",
    "    #q2\n",
    "    aa = np.arctan2(pmz,np.sqrt(pmx**2+pmy**2))\n",
    "    u = np.sqrt(pmx**2 + pmy**2 + pmz**2)\n",
    "    q22 = np.pi/2 - (np.arccos((l2**2+u**2-l3**2)/(2*l2*u))+aa)\n",
    "    q33 = np.pi - np.arccos((l2**2 + l3**2 - u**2) / (2 * l2 * l3))\n",
    "    print(\"q2,q3\")\n",
    "    print(np.degrees(q22).round(decimals = 3),np.degrees(q33).round(decimals = 3))\n",
    "    \n",
    "    q2=(np.arctan2(pmz,(codo*np.sqrt(pmx**2+pmy**2))) - np.arctan2((l3*sinq3),(l2+l3*cosq3)))-np.pi/2\n",
    "    if q2 > np.pi/1.9 or q2 < -np.pi/1.9:\n",
    "        codo*=-1\n",
    "        q2=(np.arctan2(pmz,(codo*np.sqrt(pmx**2+pmy**2))) - np.arctan2((l3*sinq3),(l2+l3*cosq3)))-np.pi/2\n",
    "        if q2 > np.pi/1.9 or q2 < -np.pi/1.9:\n",
    "            print(\"fuera del rango\")\n",
    "            return None\n",
    "    #print(q2)\n",
    "    \n",
    "    q1 = np.degrees(q1).round(decimals=3)\n",
    "    q2 = np.degrees(q2).round(decimals=3)\n",
    "    q3 = np.degrees(q3).round(decimals=3)\n",
    "    print(\"q1: \", str(q1))\n",
    "    print(\"q2: \", str(q2))\n",
    "    print(\"q3: \", str(q3))\n",
    "\n",
    "    return q1, q2, q3\n"
   ]
  },
  {
   "cell_type": "markdown",
   "metadata": {},
   "source": [
    "Funcion para interpolacion"
   ]
  },
  {
   "cell_type": "code",
   "execution_count": 46,
   "metadata": {},
   "outputs": [],
   "source": [
    "\n",
    "def Interpolacion(points):\n",
    "    print(points)\n",
    "    # Extraer los puntos individuales\n",
    "    x_points = points[:, 0]\n",
    "    y_points = points[:, 1]\n",
    "    z_points = points[:, 2]\n",
    "\n",
    "    # Crear una secuencia de valores t para los puntos originales\n",
    "    t_points = np.linspace(0, 1, len(points))\n",
    "\n",
    "    # Crear una secuencia de valores t para la interpolación (30 puntos)\n",
    "    t_interpolated = np.linspace(0, 1, 30)\n",
    "\n",
    "    # Realizar la interpolación cúbica\n",
    "    cs_x = CubicSpline(t_points, x_points)\n",
    "    cs_y = CubicSpline(t_points, y_points)\n",
    "    cs_z = CubicSpline(t_points, z_points)\n",
    "\n",
    "    # Generar los puntos interpolados\n",
    "    x_interpolated = cs_x(t_interpolated)\n",
    "    y_interpolated = cs_y(t_interpolated)\n",
    "    z_interpolated = cs_z(t_interpolated)\n",
    "\n",
    "    # Guardar los puntos interpolados en una matriz\n",
    "    interpolated_points = np.vstack((x_interpolated, y_interpolated, z_interpolated)).T\n",
    "\n",
    "    print(\"Puntos de la interpolacion:\")\n",
    "    print(interpolated_points)\n",
    "    \n",
    "    # Visualizar la trayectoria original e interpolada\n",
    "    fig = plt.figure()\n",
    "    ax = fig.add_subplot(111, projection='3d')\n",
    "    ax.plot(x_points, y_points, z_points, 'o', label='Puntos originales')\n",
    "    ax.plot(x_interpolated, y_interpolated, z_interpolated, '-', label='Trayectoria interpolada')\n",
    "\n",
    "    ax.set_xlabel('X axis')\n",
    "    ax.set_ylabel('Y axis')\n",
    "    ax.set_zlabel('Z axis')\n",
    "    ax.set_title('Trayectoria Interpolada del Brazo Robótico Thor')\n",
    "    ax.legend()\n",
    "    plt.show()\n",
    "\n",
    "    return interpolated_points"
   ]
  },
  {
   "cell_type": "markdown",
   "metadata": {},
   "source": [
    "Conversor de Cartesiano a polar"
   ]
  },
  {
   "cell_type": "code",
   "execution_count": 41,
   "metadata": {},
   "outputs": [],
   "source": [
    "def cartesian2polar(x,y,z):\n",
    "    r = np.sqrt(x**2 + y**2 + z**2)\n",
    "    Q = np.arctan2(y,x)\n",
    "    phi = np.arccos(z/r) \n",
    "    return r,Q,phi"
   ]
  },
  {
   "cell_type": "code",
   "execution_count": 42,
   "metadata": {},
   "outputs": [],
   "source": [
    "def polar2cartesian(r,q,phi):\n",
    "    x = r*np.sin(phi)*np.cos(q)\n",
    "    y = r*np.sin(phi)*np.sin(q)\n",
    "    z = r*np.cos(phi)\n",
    "    return x, y, z\n",
    "    \n",
    "    "
   ]
  },
  {
   "cell_type": "markdown",
   "metadata": {},
   "source": [
    "Programa Principal\n",
    "26.215 0 36.2 0 -90 0\n",
    "-26.215 0 36.2 0 90 0 "
   ]
  },
  {
   "cell_type": "code",
   "execution_count": 52,
   "metadata": {},
   "outputs": [
    {
     "name": "stdout",
     "output_type": "stream",
     "text": [
      "['G1', '0', '0', '55.7', '1']\n",
      "[0.0, 0.0, 55.7]\n",
      "Punto Muñeca Calculado: \n",
      "0.0 0.0 35.5\n",
      "q1:  0.0\n",
      "q2:  0.0\n",
      "q3:  -0.0\n"
     ]
    }
   ],
   "source": [
    "msg = input(\"[Escriba el comando] => \")\n",
    "msg = msg.strip()\n",
    "msg = msg.split()\n",
    "print(msg)\n",
    "for k in range(1,len(msg)-1):\n",
    "    msg[k] = float(msg[k])\n",
    "funcion = msg[0]\n",
    "type = msg[-1]\n",
    "\n",
    "if funcion == \"P1\":\n",
    "    pr = msg[1:4]\n",
    "    orient = msg[4:7]\n",
    "    q1, q2, q3, q4, q5, q6 = inverse_kinematics_P1(pr[0], pr[1], pr[2], orient[0], orient[1], orient[2])\n",
    "if funcion == \"G1\":\n",
    "    pr = msg[1:4]\n",
    "    print(pr)\n",
    "    q1, q2, q3 = inverse_kinematics_G1(pr[0], pr[1], pr[2])\n",
    "if funcion == \"G2\":\n",
    "    print(msg)\n"
   ]
  },
  {
   "cell_type": "code",
   "execution_count": 70,
   "metadata": {},
   "outputs": [
    {
     "name": "stdout",
     "output_type": "stream",
     "text": [
      "Punto Muñeca Calculado: \n",
      "14.660333322756626 14.660333322756626 13.907444419765472\n",
      "q2,q3\n",
      "4.802 91.192\n",
      "q1:  45.0\n",
      "q2:  -4.802\n",
      "q3:  -91.192\n"
     ]
    },
    {
     "data": {
      "text/plain": [
       "(45.0, -4.802, -91.192)"
      ]
     },
     "execution_count": 70,
     "metadata": {},
     "output_type": "execute_result"
    }
   ],
   "source": [
    "inverse_kinematics_G1(14.660333322756626, 14.660333322756626, 34.10744441976547)\n",
    "#G1 16.38 19.53 23.95 1\n",
    "#G1 12 15 45.2\n",
    "#G1 13 -15 404\n",
    "#G1 -15 12 45\n",
    "#G1 13 16 46\n",
    "#P1 26.215 0 36.2 0 -90 0 1"
   ]
  },
  {
   "cell_type": "code",
   "execution_count": 73,
   "metadata": {},
   "outputs": [
    {
     "name": "stdout",
     "output_type": "stream",
     "text": [
      "[[ 15.   15.   35. ]\n",
      " [ 21.7  13.2  37.7]\n",
      " [ 23.9  12.9  43.5]\n",
      " [ 10.2  14.5  44.2]\n",
      " [ -8.   16.5  45.9]\n",
      " [-12.4  15.7  45.7]]\n",
      "Puntos de la interpolacion:\n",
      "[[ 15.          15.          35.        ]\n",
      " [ 15.73649186  14.61711974  34.69614854]\n",
      " [ 16.75792775  14.25931226  34.7947531 ]\n",
      " [ 17.97707573  13.9306436   35.23116706]\n",
      " [ 19.30670384  13.63517979  35.94074378]\n",
      " [ 20.65958014  13.37698689  36.85883663]\n",
      " [ 21.94847267  13.16013093  37.92079899]\n",
      " [ 23.08614949  12.98867796  39.06198423]\n",
      " [ 23.98537865  12.866694    40.21774571]\n",
      " [ 24.55892821  12.79824511  41.3234368 ]\n",
      " [ 24.7195662   12.78739732  42.31441087]\n",
      " [ 24.38006068  12.83821668  43.12602129]\n",
      " [ 23.45502317  12.95464021  43.69506909]\n",
      " [ 21.93072943  13.13558927  44.01463255]\n",
      " [ 19.88654967  13.37346973  44.15089617]\n",
      " [ 17.40807577  13.66025203  44.17493023]\n",
      " [ 14.58089959  13.98790657  44.15780502]\n",
      " [ 11.49061298  14.34840379  44.17059084]\n",
      " [  8.22316208  14.73335247  44.28064565]\n",
      " [  4.86979376  15.12895021  44.49977996]\n",
      " [  1.52583542  15.51722908  44.79704375]\n",
      " [ -1.71328058  15.88011399  45.14038706]\n",
      " [ -4.75212186  16.19952984  45.49775992]\n",
      " [ -7.49525606  16.45740156  45.83711236]\n",
      " [ -9.84725081  16.63565405  46.12639441]\n",
      " [-11.71267375  16.71621223  46.33355611]\n",
      " [-12.9960925   16.681001    46.42654749]\n",
      " [-13.60207471  16.51194528  46.37331857]\n",
      " [-13.43518799  16.19096997  46.1418194 ]\n",
      " [-12.4         15.7         45.7       ]]\n",
      "25.865807545870283 0.7853981633974483 0.96162998764586\n",
      "26 0.7853981633974483 0.96162998764586\n",
      "------------\n",
      "25.912076103334243 0.7485371429210266 0.9770911093491879\n",
      "26 0.7485371429210266 0.9770911093491879\n",
      "------------\n",
      "26.403843408116348 0.7050160355212021 0.9851344389019943\n",
      "26.403843408116348 0.7050160355212021 0.9851344389019943\n",
      "------------\n",
      "27.2612190832928 0.6592548055056889 0.9867842682202419\n",
      "27.2612190832928 0.6592548055056889 0.9867842682202419\n",
      "------------\n",
      "28.397851255694217 0.6149020770909492 0.9832824565236296\n",
      "28.397851255694217 0.6149020770909492 0.9832824565236296\n",
      "------------\n",
      "29.720007870734207 0.5746126312390174 0.9757755227064772\n",
      "29.720007870734207 0.5746126312390174 0.9757755227064772\n",
      "------------\n",
      "31.12798123569242 0.5401195235819976 0.9651562653450652\n",
      "31.12798123569242 0.5401195235819976 0.9651562653450652\n",
      "------------\n",
      "32.51846402424948 0.5124789193991228 0.9520195005255998\n",
      "32.51846402424948 0.5124789193991228 0.9520195005255998\n",
      "------------\n",
      "33.786984873283544 0.49237216145348994 0.9366759377527255\n",
      "33.786984873283544 0.49237216145348994 0.9366759377527255\n",
      "------------\n",
      "34.83009639015469 0.4804035882275941 0.9191819311906387\n",
      "34.83009639015469 0.4804035882275941 0.9191819311906387\n",
      "------------\n",
      "35.547456327881925 0.4773905352316329 0.8993621121584704\n",
      "35.547456327881925 0.4773905352316329 0.8993621121584704\n",
      "------------\n",
      "35.844241083566445 0.4846900815525112 0.8768169054192432\n",
      "35.844241083566445 0.4846900815525112 0.8768169054192432\n",
      "------------\n",
      "35.63676593189076 0.5046214082488131 0.850918302010559\n",
      "35.63676593189076 0.5046214082488131 0.850918302010559\n",
      "------------\n",
      "34.93762044369583 0.5396530867506086 0.8208042961253386\n",
      "34.93762044369583 0.5396530867506086 0.8208042961253386\n",
      "------------\n",
      "33.88170565296215 0.5920220653558008 0.7856939565830489\n",
      "33.88170565296215 0.5920220653558008 0.7856939565830489\n",
      "------------\n",
      "32.625769982340174 0.6653465974312022 0.7453561167203945\n",
      "32.625769982340174 0.6653465974312022 0.7453561167203945\n",
      "------------\n",
      "31.340717675010183 0.7646444828532517 0.7006385831295758\n",
      "31.340717675010183 0.7646444828532517 0.7006385831295758\n",
      "------------\n",
      "30.207616642011423 0.8955503082013153 0.6542114394429575\n",
      "30.207616642011423 0.8955503082013153 0.6542114394429575\n",
      "------------\n",
      "29.403563802562516 1.0617308418900995 0.6111820175020052\n",
      "29.403563802562516 1.0617308418900995 0.6111820175020052\n",
      "------------\n",
      "29.035828412382717 1.2593837173251348 0.5792206447961141\n",
      "29.035828412382717 1.2593837173251348 0.5792206447961141\n",
      "------------\n",
      "29.122622361379847 1.4727797340531046 0.5649737764144744\n",
      "29.122622361379847 1.4727797340531046 0.5649737764144744\n",
      "------------\n",
      "29.616486240414428 1.6782690529178705 0.5696095412395102\n",
      "29.616486240414428 1.6782690529178705 0.5696095412395102\n",
      "------------\n",
      "30.413551029160647 1.8561405121595635 0.5884674077046241\n",
      "30.413551029160647 1.8561405121595635 0.5884674077046241\n",
      "------------\n",
      "31.37333995031552 1.998159761069027 0.6143256119952847\n",
      "31.37333995031552 1.998159761069027 0.6143256119952847\n",
      "------------\n",
      "32.34024213708925 2.1052656846257594 0.6407026303270575\n",
      "32.34024213708925 2.1052656846257594 0.6407026303270575\n",
      "------------\n",
      "33.15993414538983 2.181976842606572 0.6630697552093647\n",
      "33.15993414538983 2.181976842606572 0.6630697552093647\n",
      "------------\n",
      "33.689553390840786 2.232660002152778 0.678560358204433\n",
      "33.689553390840786 2.232660002152778 0.678560358204433\n",
      "------------\n",
      "33.803895902658034 2.259865124897745 0.6852366667416602\n",
      "33.803895902658034 2.259865124897745 0.6852366667416602\n",
      "------------\n",
      "33.40104457743923 2.2634428447511317 0.6814234287743405\n",
      "33.40104457743923 2.2634428447511317 0.6814234287743405\n",
      "------------\n",
      "32.411417741283714 2.239292229207101 0.6652543942949614\n",
      "32.411417741283714 2.239292229207101 0.6652543942949614\n",
      "------------\n"
     ]
    }
   ],
   "source": [
    "points = np.array([\n",
    "    [15, 15,  35],        # Punto 1\n",
    "    [21.7,  13.2,  37.7],  # Punto 2\n",
    "    [23.9, 12.9, 43.5],  # Punto 4\n",
    "    [ 10.2, 14.5, 44.2],  # Punto 3\n",
    "    [-8,  16.5,  45.9],   # Punto 5 ##Leer\n",
    "    [-12.4,  15.7,  45.7]\n",
    "])\n",
    "\n",
    "interpolated_points = Interpolacion(points)\n",
    "for k in interpolated_points:\n",
    "    k[2] = k[2] - 20.2\n",
    "    r,q,phi = cartesian2polar(k[0], k[1], k[2]) #Max = 40.415 Min = 25.224 \n",
    "    print(r,q,phi)\n",
    "    if r < 26:\n",
    "        r = 26\n",
    "        x, y, z = polar2cartesian(r,q,phi)\n",
    "        k [0] = x\n",
    "        k [1] = y\n",
    "        k [2] = z + 20.2\n",
    "        \"\"\" print(\"new:\")\n",
    "        print(r,q,phi) \"\"\"\n",
    "    if r > 40:\n",
    "        r = 40\n",
    "        x, y, z = polar2cartesian(r,q,phi)\n",
    "        k [0] = x\n",
    "        k [1] = y\n",
    "        k [2] = z + 20.2\n",
    "        \"\"\" print(\"new:\")\"\"\"\n",
    "    print(r,q,phi) \n",
    "    print(\"------------\")\n",
    "#print(interpolated_points)"
   ]
  },
  {
   "cell_type": "code",
   "execution_count": 74,
   "metadata": {},
   "outputs": [
    {
     "name": "stdout",
     "output_type": "stream",
     "text": [
      "Punto Muñeca Calculado: \n",
      "19.5 0.0 16.000000000000004\n",
      "q1:  0.0\n",
      "q2:  0.0\n",
      "q3:  -90.0\n",
      "q4:  0.0\n",
      "q5:  0.0\n",
      "q6:  -0.0\n"
     ]
    },
    {
     "data": {
      "text/plain": [
       "(0.0, 0.0, -90.0, 0.0, 0.0, -0.0)"
      ]
     },
     "execution_count": 74,
     "metadata": {},
     "output_type": "execute_result"
    }
   ],
   "source": [
    "#inverse_kinematics_P1(l3+l4, 0, l1+l2, 0, -90, 0)\n",
    "inverse_kinematics_P1(26.215,0,36.2,0,-90,0)\n",
    "#P1 26.215 0 36.2 0 -90 0 1"
   ]
  },
  {
   "cell_type": "code",
   "execution_count": 9,
   "metadata": {},
   "outputs": [
    {
     "name": "stdout",
     "output_type": "stream",
     "text": [
      "Punto Muñeca Calculado: \n",
      "-194.99999999999997 0.0 160.0\n",
      "-1.5707963267948968\n",
      "4.440892098500626e-16\n",
      "q1:  180.0\n",
      "q2:  0.0\n",
      "q3:  -90.0\n",
      "q4:  39.294\n",
      "q5:  0.0\n",
      "q6:  39.294\n"
     ]
    },
    {
     "data": {
      "text/plain": [
       "(180.0, 0.0, -90.0, 39.294, 0.0, 39.294)"
      ]
     },
     "execution_count": 9,
     "metadata": {},
     "output_type": "execute_result"
    }
   ],
   "source": [
    "inverse_kinematics(-l3-l4, 0, l1+l2, 0, 90, 0)"
   ]
  },
  {
   "cell_type": "code",
   "execution_count": 10,
   "metadata": {},
   "outputs": [
    {
     "name": "stdout",
     "output_type": "stream",
     "text": [
      "Punto Muñeca Calculado: \n",
      "0.0 0.0 355.0\n",
      "-0.0\n",
      "0.0\n",
      "q1:  0.0\n",
      "q2:  0.0\n",
      "q3:  -0.0\n",
      "q4:  0.0\n",
      "q5:  0.0\n",
      "q6:  0.0\n"
     ]
    },
    {
     "data": {
      "text/plain": [
       "(0.0, 0.0, -0.0, 0.0, 0.0, 0.0)"
      ]
     },
     "execution_count": 10,
     "metadata": {},
     "output_type": "execute_result"
    }
   ],
   "source": [
    "inverse_kinematics(0, 0, l3+l4+l1+l2, 0, 0, 0)"
   ]
  },
  {
   "cell_type": "code",
   "execution_count": 11,
   "metadata": {},
   "outputs": [
    {
     "name": "stdout",
     "output_type": "stream",
     "text": [
      "Punto Muñeca Calculado: \n",
      "0.0 0.0 345.0\n",
      "-0.4782090726265804\n",
      "0.2631333577383086\n",
      "q1:  0.0\n",
      "q2:  15.076\n",
      "q3:  -27.399\n",
      "q4:  0.0\n",
      "q5:  12.323\n",
      "q6:  0.0\n"
     ]
    },
    {
     "data": {
      "text/plain": [
       "(0.0, 15.076, -27.399, 0.0, 12.323, 0.0)"
      ]
     },
     "execution_count": 11,
     "metadata": {},
     "output_type": "execute_result"
    }
   ],
   "source": [
    "inverse_kinematics(0, 0, l3+l4+l1+l2-10, 0, 0, 0)"
   ]
  }
 ],
 "metadata": {
  "kernelspec": {
   "display_name": ".venv",
   "language": "python",
   "name": "python3"
  },
  "language_info": {
   "codemirror_mode": {
    "name": "ipython",
    "version": 3
   },
   "file_extension": ".py",
   "mimetype": "text/x-python",
   "name": "python",
   "nbconvert_exporter": "python",
   "pygments_lexer": "ipython3",
   "version": "3.11.4"
  }
 },
 "nbformat": 4,
 "nbformat_minor": 2
}
