{
  "cells": [
    {
      "cell_type": "code",
      "execution_count": 8,
      "metadata": {
        "id": "pP77do4fhKOP"
      },
      "outputs": [],
      "source": [
        "import numpy as np\n",
        "\n",
        "l1=202 #milimetros\n",
        "l2=160\n",
        "l3=195\n",
        "l4=67.15\n",
        "l5=120 #herramienta\n",
        "\n",
        "#se considera posicion inicial todo hacia arriba"
      ]
    },
    {
      "cell_type": "code",
      "execution_count": 9,
      "metadata": {
        "id": "Z2Vge0thhO_2"
      },
      "outputs": [],
      "source": [
        "def CD(Q):\n",
        "\n",
        "    Q=np.array(Q)/180*np.pi\n",
        "\n",
        "    C1 = np.cos(Q[0])\n",
        "    C2 = np.cos(Q[1])\n",
        "    cosq3 = np.cos(Q[2])\n",
        "    C4 = np.cos(Q[3])\n",
        "    C5 = np.cos(Q[4])\n",
        "    C6 = np.cos(Q[5])\n",
        "\n",
        "    S1 = np.sin(Q[0])\n",
        "    S2 = np.sin(Q[1])\n",
        "    S3 = np.sin(Q[2])\n",
        "    S4 = np.sin(Q[3])\n",
        "    S5 = np.sin(Q[4])\n",
        "    S6 = np.sin(Q[5])\n",
        "\n",
        "    L1 = l1\n",
        "    L2 = l2\n",
        "    L3 = l3\n",
        "    L4 = l4\n",
        "\n",
        "    A1=np.array([[C1,0,S1,0],[S1,0,-C1,0],[0,1,0,L1],[0,0,0,1]])\n",
        "    A2=np.array([[-S2,-C2,0,-L2*S2],[C2,-S2,0,L2*C2],[0,0,1,0],[0,0,0,1]])\n",
        "    A3=np.array([[S3,0,cosq3,0],[-cosq3,0,S3,0],[0,-1,0,0],[0,0,0,1]])\n",
        "    A4=np.array([[C4,0,S4,0],[S4,0,-C4,0],[0,1,0,L3],[0,0,0,1]])\n",
        "    A5=np.array([[C5,0,-S5,0],[S5,0,C5,0],[0,-1,0,0],[0,0,0,1]])\n",
        "    A6=np.array([[C6,-S6,0,0],[S6,C6,0,0],[0,0,1,L4],[0,0,0,1]])\n",
        "\n",
        "    T=np.matmul(np.matmul(A1,A2),np.matmul(np.matmul(A3,A4),np.matmul(A5,A6))).round(decimals=3)\n",
        "\n",
        "    return [T[0:3,0:3],T[0:3,3]]\n",
        "    #return T"
      ]
    },
    {
      "cell_type": "code",
      "execution_count": 10,
      "metadata": {
        "colab": {
          "base_uri": "https://localhost:8080/"
        },
        "id": "d1qtPQ9ikSXO",
        "outputId": "3424c567-039f-4aab-f6a9-486833639346"
      },
      "outputs": [
        {
          "name": "stdout",
          "output_type": "stream",
          "text": [
            "[array([[1., 0., 0.],\n",
            "       [0., 1., 0.],\n",
            "       [0., 0., 1.]]), array([  0.  ,   0.  , 624.15])]\n",
            "[array([[ 0.,  0., -1.],\n",
            "       [ 0.,  1.,  0.],\n",
            "       [ 1.,  0.,  0.]]), array([-262.15,    0.  ,  362.  ])]\n"
          ]
        }
      ],
      "source": [
        "#pruebas Cinematica directa\n",
        "print(CD([0,0,0,0,0,0]))\n",
        "print(CD([0,0,90,0,0,0]))"
      ]
    },
    {
      "cell_type": "code",
      "execution_count": 13,
      "metadata": {
        "id": "zj-PXvvYkhzU"
      },
      "outputs": [],
      "source": [
        "\n",
        "def CI(p,rot=[[1,0,0],[0,1,0],[0,0,1]],codo=+1,signoQ3=-1,pM=0,euler=0):\n",
        "\n",
        "  #q1 -180 a 180\n",
        "  #q2 -90 a 90\n",
        "  #q3 -90 a 90\n",
        "  #q4 -180 a 180\n",
        "  #q5 -90 a 90\n",
        "  #q6 -180 a 180\n",
        "  if euler!=0:\n",
        "    alpha=euler[0]*np.pi/180.0\n",
        "    beta=euler[1]*np.pi/180.0\n",
        "    gamma=euler[2]*np.pi/180.0\n",
        "    rot=[[np.cos(alpha)*np.cos(beta),np.cos(alpha)*np.sin(beta)*np.sin(gamma)-np.sin(alpha)*np.cos(gamma),np.cos(alpha)*np.sin(beta)*np.cos(gamma)+np.sin(alpha)*np.sin(gamma)],[np.sin(alpha)*np.cos(beta),np.sin(alpha)*np.sin(beta)*np.sin(gamma)+np.cos(alpha)*np.cos(gamma),np.sin(alpha)*np.sin(beta)*np.cos(gamma)-np.cos(alpha)*np.sin(gamma)],[-np.sin(beta),np.cos(beta)*np.sin(gamma),np.cos(beta)*np.cos(gamma)]]\n",
        "\n",
        "  n=rot[0]\n",
        "  o=rot[1]\n",
        "  a=rot[2]\n",
        "  if pM:\n",
        "    if p[2]<l4:\n",
        "      print(\"fuera del rango\")\n",
        "      return None\n",
        "    pmx=p[0]\n",
        "    pmy=p[1]\n",
        "    pmz=p[2] -l1\n",
        "  else:\n",
        "    pmx=p[0]-l4*a[0]\n",
        "    pmy=p[1]-l4*a[1]\n",
        "    pmz=p[2]-l4*a[2] -l1\n",
        "\n",
        "  #q1\n",
        "  q1=np.arctan2(pmy,pmx)\n",
        "  if q1 > np.pi or q1 < -np.pi:\n",
        "    print(\"fuera del rango\")\n",
        "    return None\n",
        "  #\n",
        "\n",
        "  #q3\n",
        "\n",
        "  cosq3=(pmx**2+pmy**2+pmz**2-l2**2-l3**2)/(2*l2*l3)\n",
        "  S3=(signoQ3)*np.sqrt(1-cosq3**2)\n",
        "  q3=np.arctan2(S3,cosq3)\n",
        "  if q3 > np.pi/1.9 or q3 < -np.pi/1.9:\n",
        "    signoQ3*=-1\n",
        "    S3=(signoQ3)*np.sqrt(1-cosq3**2)\n",
        "    q3=np.arctan2(S3,cosq3)\n",
        "    if q3 > np.pi/1.9 or q3 < -np.pi/1.9:\n",
        "      print(\"fuera del rango\")\n",
        "      return None\n",
        "  #\n",
        "  #q2\n",
        "  #-1\n",
        "  q2=(np.arctan2(pmz,(codo*np.sqrt(pmx**2+pmy**2))) - np.arctan2((l3*S3),(l2+l3*cosq3)))-np.pi/2\n",
        "  if q2 > np.pi/1.9 or q2 < -np.pi/1.9:\n",
        "    codo*=-1\n",
        "    q2=(np.arctan2(pmz,(codo*np.sqrt(pmx**2+pmy**2))) - np.arctan2((l3*S3),(l2+l3*cosq3)))-np.pi/2\n",
        "    if q2 > np.pi/1.9 or q2 < -np.pi/1.9:\n",
        "      print(\"fuera del rango\")\n",
        "      return None\n",
        "  #\n",
        "  \n",
        "  if pM:\n",
        "     return (np.array([q1,q2,q3])*180/np.pi).round(decimals=3)\n",
        "\n",
        "\n",
        "  C1=np.cos(q1)\n",
        "  C2=np.cos(q2)\n",
        "  S1=np.sin(q1)\n",
        "  S2=np.sin(q2)\n",
        "\n",
        "  q5=np.arccos(-a[0]*C1*(C2*S3+cosq3*S2)-a[1]*S1*(C2*S3+cosq3*S2)+a[2]*(C2*cosq3-S2*S3))\n",
        "  if q5 > np.pi/2 or q5 < -np.pi/2:\n",
        "    print(\"Q5 fuera del rango\")\n",
        "    return None\n",
        "  S5=np.sin(q5)\n",
        "\n",
        "  q4=np.arctan2((C1*a[1]-S1*a[0]),abs(a[2]*(C2*S3+cosq3*S2)+(C2*cosq3-S2*S3)*(a[1]*S1+a[0]*C1)))\n",
        "\n",
        "  S4=np.sin(q4)\n",
        "  C4=np.cos(q4)\n",
        "\n",
        "  q6=np.arcsin(n[0]*(-2*C4*S1+C1*S4*(-C2*cosq3+S2*S3))+n[1]*(C1*C4+S1*S4*(S2*S3-C2*cosq3))-n[2]*S4*(C2*S3+cosq3*S2))\n",
        "\n",
        "  return (np.array([q1,q2,q3,q4,q5,q6])*180/np.pi).round(decimals=3)"
      ]
    },
    {
      "cell_type": "code",
      "execution_count": 14,
      "metadata": {
        "colab": {
          "base_uri": "https://localhost:8080/"
        },
        "id": "sAg95322k-ar",
        "outputId": "792750b4-f57c-4af3-b78f-3ebac38c1d36"
      },
      "outputs": [
        {
          "name": "stdout",
          "output_type": "stream",
          "text": [
            "[ 0.  0. -0.  0.  0.  0.]\n",
            "[  0.   0. -90.   0.   0.   0.]\n",
            "[180.      0.    -90.     30.144   0.     30.144]\n",
            "[  0.   0. -90.   0.   0.  -0.]\n",
            "[180.      0.    -90.     39.294   0.     39.294]\n",
            "[ 0.  0. -0.  0.  0.  0.]\n",
            "[  0.     15.076 -27.399   0.     12.323   0.   ]\n"
          ]
        }
      ],
      "source": [
        "#pruebas Cinematica inversa\n",
        "print(CI([0,0,l1+l2+l3+l4]))\n",
        "print(CI([l3+l4,0,l1+l2],[[ 0.,  0., 1.],[ 0.,  1.,  0.],[ 1.,  0.,  0.]]))\n",
        "print(CI([-l3-l4,0,l1+l2],[[ 0.,  0., 1.],[ 0.,  1.,  0.],[ -1.,  0.,  0.]]))\n",
        "print(CI([l3+l4,0,l1+l2],euler=[0,-90,0]))\n",
        "print(CI([-l3-l4,0,l1+l2],euler=[0,90,0]))\n",
        "print(CI([0,0,l1+l2+l3+l4],euler=[0,0,0]))\n",
        "print(CI([0,0,l1+l2+l3+l4-10],euler=[0,0,0]))"
      ]
    },
    {
      "cell_type": "code",
      "execution_count": null,
      "metadata": {
        "colab": {
          "base_uri": "https://localhost:8080/"
        },
        "id": "Cf0Vvz80sqok",
        "outputId": "0cb60450-fe99-4e79-b695-ea4b2b48078b"
      },
      "outputs": [
        {
          "name": "stdout",
          "output_type": "stream",
          "text": [
            "-135.0\n",
            "135.0\n",
            "-45.0\n",
            "180.0\n",
            "0.0\n"
          ]
        }
      ],
      "source": [
        "#pruebas numpy\n",
        "print(np.arctan2(-1,-1)*180/np.pi)\n",
        "print(np.arctan2(1,-1)*180/np.pi)\n",
        "print(np.arctan2(-1,1)*180/np.pi)\n",
        "print(np.arctan2(0,-1)*180/np.pi)\n",
        "print(np.arctan(0)*180/np.pi)"
      ]
    },
    {
      "cell_type": "markdown",
      "metadata": {
        "id": "R1FwGCVzrm2q"
      },
      "source": [
        "#Interpolador spline cubico"
      ]
    },
    {
      "cell_type": "code",
      "execution_count": null,
      "metadata": {
        "colab": {
          "base_uri": "https://localhost:8080/"
        },
        "id": "6jLHpLRtrkUE",
        "outputId": "e042bb48-37cd-41a8-8dbf-4a24d5257acb"
      },
      "outputs": [
        {
          "name": "stdout",
          "output_type": "stream",
          "text": [
            "44.44444444444444 0.0225\n",
            "270.0 0.003703703703703704\n",
            "265.0 0.0037735849056603774\n",
            "17.77777777777778 0.056249999999999994\n",
            "17.77777777777778 0.056249999999999994\n",
            "35.55555555555556 0.028124999999999997\n"
          ]
        }
      ],
      "source": [
        "vMA1=40.0\n",
        "vMA2=10.0\n",
        "vMA3=10.0\n",
        "vMA4=40.0\n",
        "vMA5=10.0\n",
        "vMA6=10.0 #grados/segundo\n",
        "\n",
        "pasos=200\n",
        "\n",
        "gradosApasosA1=(pasos/360.0)*5.0*16.0\n",
        "gradosApasosA2=16.875*16.0\n",
        "gradosApasosA3=16.5625*16.0\n",
        "gradosApasosA4=(pasos/360.0)*2.0*16.0\n",
        "gradosApasosP1=(pasos/360.0)*2.0*16.0\n",
        "gradosApasosP2=(pasos/360.0)*2.0*16.0\n",
        "\n",
        "print(gradosApasosA1,1/gradosApasosA1)\n",
        "print(gradosApasosA2,1/gradosApasosA2)\n",
        "print(gradosApasosA3,1/gradosApasosA3)\n",
        "print(gradosApasosA4,1/gradosApasosA4)\n",
        "print(gradosApasosP1,1/gradosApasosP1)\n",
        "print(2*gradosApasosP2,1/(2*gradosApasosP2))\n",
        "\n"
      ]
    },
    {
      "cell_type": "code",
      "execution_count": null,
      "metadata": {
        "id": "aOUkEKyUfsK6"
      },
      "outputs": [],
      "source": [
        "def tMax(Pi,Pia):\n",
        "   if len(Pi)==3:\n",
        "      v1=vMA1/2\n",
        "      v2=vMA2/2\n",
        "      v3=vMA3/2\n",
        "      return max(abs((Pi[0]-Pia[0])/v1),abs((Pi[1]-Pia[1])/v2),abs((Pi[2]-Pia[2])/v3))"
      ]
    },
    {
      "cell_type": "code",
      "execution_count": null,
      "metadata": {
        "id": "yl5PO6kLwpSh"
      },
      "outputs": [],
      "source": [
        "#intento fallido\n",
        "aux=[\"STR\",\"50\",\"50\", \"450\", \"0\", \"0\" ,\"557\", 50,50 ,450,0,0,557]\n",
        "\n",
        "STR=[]\n",
        "STRQ=[]\n",
        "try:\n",
        "  for i in range(min(30,int((len(aux)-1)/3))):\n",
        "    STR.append([float(aux[1+i*3]),float(aux[2+i*3]),float(aux[3+i*3])])\n",
        "    out=CI(STR[i],pM=1)\n",
        "    if type(out)==type(None):\n",
        "      print(STR[i],\" No esta en el espacio de la tarea\")\n",
        "      raise ValueError(\"Fuera de rango\")\n",
        "    STRQ.append(out)\n",
        "  STRQI=[]\n",
        "  v1a=0\n",
        "  v2a=0\n",
        "  v3a=0\n",
        "  Ta=1\n",
        "  tcs=[0]\n",
        "  Qcs1=[STRQ[0][0]]\n",
        "  Qcs2=[STRQ[0][1]]\n",
        "  Qcs3=[STRQ[0][2]]\n",
        "  for i in range(1,len(STRQ)):\n",
        "      STRQI.append(STRQ[i-1])\n",
        "      Pi=STRQ[i]\n",
        "      Pia=STRQ[i-1]\n",
        "\n",
        "      T=tMax(Pi,Pia)\n",
        "      tcs.append(tcs[-1]+T)\n",
        "      Qcs1.append(STRQ[i][0])\n",
        "      Qcs2.append(STRQ[i][1])\n",
        "      Qcs3.append(STRQ[i][2])\n",
        "      #T=1\n",
        "      cantPuntos=int(min(abs(Pi[0]-Pia[0]),abs(Pi[1]-Pia[1]),abs(Pi[2]-Pia[2])))\n",
        "      if T!=0:\n",
        "        if i>1:\n",
        "          v1=((Pi[0]-Pia[0])/T+ (Pia[0]-STRQ[i-2][0])/Ta)/2\n",
        "          v2=((Pi[1]-Pia[1])/T+ (Pia[1]-STRQ[i-2][1])/Ta)/2\n",
        "          v3=((Pi[2]-Pia[2])/T+ (Pia[2]-STRQ[i-2][2])/Ta)/2\n",
        "        else:\n",
        "          v1=(Pi[0]-Pia[0])/T\n",
        "          v2=(Pi[1]-Pia[1])/T\n",
        "          v3=(Pi[2]-Pia[2])/T\n",
        "      if cantPuntos!=0:\n",
        "        for j in np.arange(0,T,T/cantPuntos):\n",
        "          q1=Pia[0] + v1a*j + j**2*(3*(v1-v1a)/T-2*v1a-v1)/T + j**3*(-2*(v1-v1a)/T**3 +(v1a+v1)/T**2)\n",
        "          q2=Pia[1] + v2a*j + j**2*(3*(v2-v2a)/T-2*v2a-v2)/T + j**3*(-2*(v2-v2a)/T**3 +(v2a+v2)/T**2)\n",
        "          q3=Pia[2] + v3a*j + j**2*(3*(v3-v3a)/T-2*v3a-v3)/T + j**3*(-2*(v3-v3a)/T**3 +(v3a+v3)/T**2)\n",
        "          STRQI.append([q1,q2,q3])\n",
        "        v1a=v1\n",
        "        v2a=v2\n",
        "        v3a=v3\n",
        "        Ta=T\n",
        "  STRQI.append(STRQ[-1])\n",
        "\n",
        "except Exception as e:\n",
        "    print(e)\n",
        "    print(\"Entrada Incorrecta\")"
      ]
    },
    {
      "cell_type": "code",
      "execution_count": null,
      "metadata": {
        "colab": {
          "base_uri": "https://localhost:8080/"
        },
        "id": "72-exF4lap2W",
        "outputId": "57e82efc-02f3-411a-81e8-16224837c994"
      },
      "outputs": [
        {
          "name": "stdout",
          "output_type": "stream",
          "text": [
            "name 'CubicSpline' is not defined\n",
            "Entrada Incorrecta\n"
          ]
        }
      ],
      "source": [
        "aux=[\"STR\",\"50\",\"50\", \"450\", \"0\", \"0\" ,\"557\", 50,50 ,450,0,0,557,0,0,530,10,10,520,20,20,510]#,30,30,500]\n",
        "\n",
        "STR=[]\n",
        "STRQ=[]\n",
        "STRQI=[]\n",
        "try:\n",
        "  for i in range(min(30,int((len(aux)-1)/3))):\n",
        "    STR.append([float(aux[1+i*3]),float(aux[2+i*3]),float(aux[3+i*3])])\n",
        "    out=CI(STR[i],pM=1)\n",
        "    if type(out)==type(None):\n",
        "      print(STR[i],\" No esta en el espacio de la tarea\")\n",
        "      raise ValueError(\"Fuera de rango\")\n",
        "    STRQ.append(out)\n",
        "  tcs=[0]\n",
        "  taux=[0]\n",
        "  Qcs1=[STRQ[0][0]]\n",
        "  Qcs2=[STRQ[0][1]]\n",
        "  Qcs3=[STRQ[0][2]]\n",
        "  for i in range(1,len(STRQ)):\n",
        "      T=tMax(STRQ[i],STRQ[i-1])\n",
        "      tcs.append(tcs[-1]+T)\n",
        "      Qcs1.append(STRQ[i][0])\n",
        "      Qcs2.append(STRQ[i][1])\n",
        "      Qcs3.append(STRQ[i][2])\n",
        "  cs1=CubicSpline(tcs,Qcs1)\n",
        "  cs2=CubicSpline(tcs,Qcs2)\n",
        "  cs3=CubicSpline(tcs,Qcs3)\n",
        "  for i in range(1,len(STRQ)):\n",
        "    cantPuntos=int(max(abs(STRQ[i][0]-STRQ[i-1][0]),abs(STRQ[i][1]-STRQ[i-1][1]),abs(STRQ[i][2]-STRQ[i-1][2])))\n",
        "    if cantPuntos!=0:\n",
        "      tie=np.arange(tcs[i-1],tcs[i],(tcs[i]-tcs[i-1])/cantPuntos)\n",
        "      CS1=cs1(tie)\n",
        "      CS2=cs2(tie)\n",
        "      CS3=cs3(tie)\n",
        "      for j in range(len(tie)):\n",
        "        STRQI.append([CS1[j],CS2[j],CS3[j]])\n",
        "    else:\n",
        "      STRQI.append(STRQ[i-1])\n",
        "    taux.append(len(STRQI))\n",
        "  STRQI.append(STRQ[-1])\n",
        "\n",
        "except Exception as e:\n",
        "    print(e)\n",
        "    print(\"Entrada Incorrecta\")"
      ]
    },
    {
      "cell_type": "code",
      "execution_count": null,
      "metadata": {
        "colab": {
          "base_uri": "https://localhost:8080/",
          "height": 485
        },
        "id": "XrhcBdiFOZW8",
        "outputId": "ee89b54d-5c47-41e7-fcb9-b9badbd0d0a3"
      },
      "outputs": [
        {
          "name": "stdout",
          "output_type": "stream",
          "text": [
            "[0, 17.4712, 34.9424, 52.4136, 61.4562, 63.7062, 64.961] [45.0, 0.0, 45.0, 0.0, 0.0, 45.0, 45.0] [33.142, 0.0, 33.142, 0.0, 24.957, 26.674, 27.506] [-87.356, -0.0, -87.356, -0.0, -45.213, -52.832, -59.106]\n"
          ]
        },
        {
          "data": {
            "text/plain": [
              "<matplotlib.collections.PathCollection at 0x7b92e7387610>"
            ]
          },
          "execution_count": 10,
          "metadata": {},
          "output_type": "execute_result"
        },
        {
          "data": {
            "image/png": "[encoded data removed]",
            "text/plain": [
              "<Figure size 640x480 with 1 Axes>"
            ]
          },
          "metadata": {},
          "output_type": "display_data"
        }
      ],
      "source": [
        "from scipy.interpolate import CubicSpline\n",
        "import matplotlib.pyplot as plt\n",
        "cs1=CubicSpline(tcs,Qcs1)\n",
        "cs2=CubicSpline(tcs,Qcs2)\n",
        "cs3=CubicSpline(tcs,Qcs3)\n",
        "print(tcs,Qcs1,Qcs2,Qcs3)\n",
        "CS1=np.array(cs1(np.arange(0,tcs[-1])))\n",
        "plt.plot(CS1)\n",
        "plt.plot(cs2(np.arange(0,tcs[-1])))\n",
        "plt.plot(cs3(np.arange(0,tcs[-1])))\n",
        "CS1=np.array(cs1(np.arange(0,tcs[-1])),dtype=int)\n",
        "plt.plot(CS1)\n",
        "plt.scatter(tcs,Qcs1)\n",
        "plt.scatter(tcs,Qcs2)\n",
        "plt.scatter(tcs,Qcs3)"
      ]
    },
    {
      "cell_type": "code",
      "execution_count": null,
      "metadata": {
        "colab": {
          "base_uri": "https://localhost:8080/",
          "height": 465
        },
        "id": "K6cRdxxgg_ET",
        "outputId": "6b8be975-abc2-43fb-96d0-997358a87c7e"
      },
      "outputs": [
        {
          "name": "stdout",
          "output_type": "stream",
          "text": [
            "358\n"
          ]
        },
        {
          "data": {
            "text/plain": [
              "<matplotlib.collections.PathCollection at 0x7d63e573b040>"
            ]
          },
          "execution_count": 96,
          "metadata": {},
          "output_type": "execute_result"
        },
        {
          "data": {
            "image/png": "[encoded data removed]",
            "text/plain": [
              "<Figure size 640x480 with 1 Axes>"
            ]
          },
          "metadata": {},
          "output_type": "display_data"
        }
      ],
      "source": [
        "\n",
        "print(len(STRQI))\n",
        "plt.figure(1)\n",
        "plt.plot(STRQI)\n",
        "plt.scatter(taux,Qcs1)\n",
        "plt.scatter(taux,Qcs2)\n",
        "plt.scatter(taux,Qcs3)"
      ]
    },
    {
      "cell_type": "markdown",
      "metadata": {
        "id": "qrGDtRIbkEoD"
      },
      "source": [
        "#Matrices simbolicas"
      ]
    },
    {
      "cell_type": "code",
      "execution_count": null,
      "metadata": {
        "id": "VdrbaKpKy_ad"
      },
      "outputs": [],
      "source": [
        "#obtencion de parametros para CinINV\n",
        "from sympy import Symbol, Matrix\n",
        "C1 = Symbol('C1')\n",
        "C2 = Symbol('C2')\n",
        "cosq3 = Symbol('cosq3')\n",
        "C4 = Symbol('C4')\n",
        "C5 = Symbol('C5')\n",
        "C6 = Symbol('C6')\n",
        "S1 = Symbol('S1')\n",
        "S2 = Symbol('S2')\n",
        "S3 = Symbol('S3')\n",
        "S4 = Symbol('S4')\n",
        "S5 = Symbol('S5')\n",
        "S6 = Symbol('S6')\n",
        "L1 = Symbol('L1')\n",
        "L2 = Symbol('L2')\n",
        "L3 = Symbol('L3')\n",
        "L4 = Symbol('L4')\n",
        "\n",
        "A1=Matrix([[C1,0,S1,0],[S1,0,-C1,0],[0,1,0,L1],[0,0,0,1]])\n",
        "A2=Matrix([[-S2,-C2,0,-L2*S2],[C2,-S2,0,L2*C2],[0,0,1,0],[0,0,0,1]])\n",
        "A3=Matrix([[S3,0,cosq3,0],[-cosq3,0,S3,0],[0,-1,0,0],[0,0,0,1]])\n",
        "A4=Matrix([[C4,0,S4,0],[S4,0,-C4,0],[0,1,0,L3],[0,0,0,1]])\n",
        "A5=Matrix([[C5,0,-S5,0],[S5,0,C5,0],[0,-1,0,0],[0,0,0,1]])\n",
        "A6=Matrix([[C6,-S6,0,0],[S6,C6,0,0],[0,0,1,L4],[0,0,0,1]])\n",
        "\n",
        "T=A1*A2*A3*A4*A5*A6\n",
        "\n",
        "R1=Matrix([[C1,0,S1],[S1,0,-C1],[0,1,0]])\n",
        "R2=Matrix([[-S2,-C2,0],[C2,-S2,0],[0,0,1]])\n",
        "R3=Matrix([[S3,0,cosq3],[-cosq3,0,S3],[0,-1,0]])\n",
        "R4=Matrix([[C4,0,S4],[S4,0,-C4],[0,1,0]])\n",
        "R5=Matrix([[C5,0,-S5],[S5,0,C5],[0,-1,0]])\n",
        "R6=Matrix([[C6,-S6,0],[S6,C6,0],[0,0,1]])\n",
        "\n",
        "\n",
        "nx = Symbol('nx')\n",
        "ny = Symbol('ny')\n",
        "nz = Symbol('nz')\n",
        "\n",
        "ox = Symbol('ox')\n",
        "oy = Symbol('oy')\n",
        "oz = Symbol('oz')\n",
        "\n",
        "ax = Symbol('ax')\n",
        "ay = Symbol('ay')\n",
        "az = Symbol('az')\n",
        "\n",
        "NOA=Matrix([[nx,ox,ax],[ny,oy,ay],[nz,oz,az]])\n",
        "\n",
        "R36=((R1*R2*R3).inv())*NOA\n",
        "R36izq=R4*R5*R6\n",
        "R46=(R4.inv())*R36\n",
        "R46izq=R5*R6\n",
        "R56=(R5.inv())*R46\n",
        "R56izq=R6"
      ]
    },
    {
      "cell_type": "markdown",
      "metadata": {
        "id": "PViZOWoMGmJM"
      },
      "source": [
        "#Despeje de q4"
      ]
    },
    {
      "cell_type": "code",
      "execution_count": null,
      "metadata": {
        "colab": {
          "base_uri": "https://localhost:8080/",
          "height": 118
        },
        "id": "rFPTHkVUGlu1",
        "outputId": "89bd5673-13f3-4a1b-80af-4ecdf99958a3"
      },
      "outputs": [
        {
          "data": {
            "text/latex": [
              "$\\displaystyle \\left[\\begin{matrix}\\frac{nx \\left(C_{1} C_{2} C_{3} - C_{1} S_{2} S_{3}\\right)}{C_{1}^{2} C_{2}^{2} C_{3}^{2} + C_{1}^{2} C_{2}^{2} S_{3}^{2} + C_{1}^{2} C_{3}^{2} S_{2}^{2} + C_{1}^{2} S_{2}^{2} S_{3}^{2} + C_{2}^{2} C_{3}^{2} S_{1}^{2} + C_{2}^{2} S_{1}^{2} S_{3}^{2} + C_{3}^{2} S_{1}^{2} S_{2}^{2} + S_{1}^{2} S_{2}^{2} S_{3}^{2}} + \\frac{ny \\left(C_{2} C_{3} S_{1} - S_{1} S_{2} S_{3}\\right)}{C_{1}^{2} C_{2}^{2} C_{3}^{2} + C_{1}^{2} C_{2}^{2} S_{3}^{2} + C_{1}^{2} C_{3}^{2} S_{2}^{2} + C_{1}^{2} S_{2}^{2} S_{3}^{2} + C_{2}^{2} C_{3}^{2} S_{1}^{2} + C_{2}^{2} S_{1}^{2} S_{3}^{2} + C_{3}^{2} S_{1}^{2} S_{2}^{2} + S_{1}^{2} S_{2}^{2} S_{3}^{2}} + \\frac{nz \\left(C_{2} S_{3} + C_{3} S_{2}\\right)}{C_{2}^{2} C_{3}^{2} + C_{2}^{2} S_{3}^{2} + C_{3}^{2} S_{2}^{2} + S_{2}^{2} S_{3}^{2}} & \\frac{ox \\left(C_{1} C_{2} C_{3} - C_{1} S_{2} S_{3}\\right)}{C_{1}^{2} C_{2}^{2} C_{3}^{2} + C_{1}^{2} C_{2}^{2} S_{3}^{2} + C_{1}^{2} C_{3}^{2} S_{2}^{2} + C_{1}^{2} S_{2}^{2} S_{3}^{2} + C_{2}^{2} C_{3}^{2} S_{1}^{2} + C_{2}^{2} S_{1}^{2} S_{3}^{2} + C_{3}^{2} S_{1}^{2} S_{2}^{2} + S_{1}^{2} S_{2}^{2} S_{3}^{2}} + \\frac{oy \\left(C_{2} C_{3} S_{1} - S_{1} S_{2} S_{3}\\right)}{C_{1}^{2} C_{2}^{2} C_{3}^{2} + C_{1}^{2} C_{2}^{2} S_{3}^{2} + C_{1}^{2} C_{3}^{2} S_{2}^{2} + C_{1}^{2} S_{2}^{2} S_{3}^{2} + C_{2}^{2} C_{3}^{2} S_{1}^{2} + C_{2}^{2} S_{1}^{2} S_{3}^{2} + C_{3}^{2} S_{1}^{2} S_{2}^{2} + S_{1}^{2} S_{2}^{2} S_{3}^{2}} + \\frac{oz \\left(C_{2} S_{3} + C_{3} S_{2}\\right)}{C_{2}^{2} C_{3}^{2} + C_{2}^{2} S_{3}^{2} + C_{3}^{2} S_{2}^{2} + S_{2}^{2} S_{3}^{2}} & \\frac{ax \\left(C_{1} C_{2} C_{3} - C_{1} S_{2} S_{3}\\right)}{C_{1}^{2} C_{2}^{2} C_{3}^{2} + C_{1}^{2} C_{2}^{2} S_{3}^{2} + C_{1}^{2} C_{3}^{2} S_{2}^{2} + C_{1}^{2} S_{2}^{2} S_{3}^{2} + C_{2}^{2} C_{3}^{2} S_{1}^{2} + C_{2}^{2} S_{1}^{2} S_{3}^{2} + C_{3}^{2} S_{1}^{2} S_{2}^{2} + S_{1}^{2} S_{2}^{2} S_{3}^{2}} + \\frac{ay \\left(C_{2} C_{3} S_{1} - S_{1} S_{2} S_{3}\\right)}{C_{1}^{2} C_{2}^{2} C_{3}^{2} + C_{1}^{2} C_{2}^{2} S_{3}^{2} + C_{1}^{2} C_{3}^{2} S_{2}^{2} + C_{1}^{2} S_{2}^{2} S_{3}^{2} + C_{2}^{2} C_{3}^{2} S_{1}^{2} + C_{2}^{2} S_{1}^{2} S_{3}^{2} + C_{3}^{2} S_{1}^{2} S_{2}^{2} + S_{1}^{2} S_{2}^{2} S_{3}^{2}} + \\frac{az \\left(C_{2} S_{3} + C_{3} S_{2}\\right)}{C_{2}^{2} C_{3}^{2} + C_{2}^{2} S_{3}^{2} + C_{3}^{2} S_{2}^{2} + S_{2}^{2} S_{3}^{2}}\\\\\\frac{C_{1} ny}{C_{1}^{2} + S_{1}^{2}} - \\frac{S_{1} nx}{C_{1}^{2} + S_{1}^{2}} & \\frac{C_{1} oy}{C_{1}^{2} + S_{1}^{2}} - \\frac{S_{1} ox}{C_{1}^{2} + S_{1}^{2}} & \\frac{C_{1} ay}{C_{1}^{2} + S_{1}^{2}} - \\frac{S_{1} ax}{C_{1}^{2} + S_{1}^{2}}\\\\\\frac{nx \\left(- C_{1} C_{2} S_{3} - C_{1} C_{3} S_{2}\\right)}{C_{1}^{2} C_{2}^{2} C_{3}^{2} + C_{1}^{2} C_{2}^{2} S_{3}^{2} + C_{1}^{2} C_{3}^{2} S_{2}^{2} + C_{1}^{2} S_{2}^{2} S_{3}^{2} + C_{2}^{2} C_{3}^{2} S_{1}^{2} + C_{2}^{2} S_{1}^{2} S_{3}^{2} + C_{3}^{2} S_{1}^{2} S_{2}^{2} + S_{1}^{2} S_{2}^{2} S_{3}^{2}} + \\frac{ny \\left(- C_{2} S_{1} S_{3} - C_{3} S_{1} S_{2}\\right)}{C_{1}^{2} C_{2}^{2} C_{3}^{2} + C_{1}^{2} C_{2}^{2} S_{3}^{2} + C_{1}^{2} C_{3}^{2} S_{2}^{2} + C_{1}^{2} S_{2}^{2} S_{3}^{2} + C_{2}^{2} C_{3}^{2} S_{1}^{2} + C_{2}^{2} S_{1}^{2} S_{3}^{2} + C_{3}^{2} S_{1}^{2} S_{2}^{2} + S_{1}^{2} S_{2}^{2} S_{3}^{2}} + \\frac{nz \\left(C_{2} C_{3} - S_{2} S_{3}\\right)}{C_{2}^{2} C_{3}^{2} + C_{2}^{2} S_{3}^{2} + C_{3}^{2} S_{2}^{2} + S_{2}^{2} S_{3}^{2}} & \\frac{ox \\left(- C_{1} C_{2} S_{3} - C_{1} C_{3} S_{2}\\right)}{C_{1}^{2} C_{2}^{2} C_{3}^{2} + C_{1}^{2} C_{2}^{2} S_{3}^{2} + C_{1}^{2} C_{3}^{2} S_{2}^{2} + C_{1}^{2} S_{2}^{2} S_{3}^{2} + C_{2}^{2} C_{3}^{2} S_{1}^{2} + C_{2}^{2} S_{1}^{2} S_{3}^{2} + C_{3}^{2} S_{1}^{2} S_{2}^{2} + S_{1}^{2} S_{2}^{2} S_{3}^{2}} + \\frac{oy \\left(- C_{2} S_{1} S_{3} - C_{3} S_{1} S_{2}\\right)}{C_{1}^{2} C_{2}^{2} C_{3}^{2} + C_{1}^{2} C_{2}^{2} S_{3}^{2} + C_{1}^{2} C_{3}^{2} S_{2}^{2} + C_{1}^{2} S_{2}^{2} S_{3}^{2} + C_{2}^{2} C_{3}^{2} S_{1}^{2} + C_{2}^{2} S_{1}^{2} S_{3}^{2} + C_{3}^{2} S_{1}^{2} S_{2}^{2} + S_{1}^{2} S_{2}^{2} S_{3}^{2}} + \\frac{oz \\left(C_{2} C_{3} - S_{2} S_{3}\\right)}{C_{2}^{2} C_{3}^{2} + C_{2}^{2} S_{3}^{2} + C_{3}^{2} S_{2}^{2} + S_{2}^{2} S_{3}^{2}} & \\frac{ax \\left(- C_{1} C_{2} S_{3} - C_{1} C_{3} S_{2}\\right)}{C_{1}^{2} C_{2}^{2} C_{3}^{2} + C_{1}^{2} C_{2}^{2} S_{3}^{2} + C_{1}^{2} C_{3}^{2} S_{2}^{2} + C_{1}^{2} S_{2}^{2} S_{3}^{2} + C_{2}^{2} C_{3}^{2} S_{1}^{2} + C_{2}^{2} S_{1}^{2} S_{3}^{2} + C_{3}^{2} S_{1}^{2} S_{2}^{2} + S_{1}^{2} S_{2}^{2} S_{3}^{2}} + \\frac{ay \\left(- C_{2} S_{1} S_{3} - C_{3} S_{1} S_{2}\\right)}{C_{1}^{2} C_{2}^{2} C_{3}^{2} + C_{1}^{2} C_{2}^{2} S_{3}^{2} + C_{1}^{2} C_{3}^{2} S_{2}^{2} + C_{1}^{2} S_{2}^{2} S_{3}^{2} + C_{2}^{2} C_{3}^{2} S_{1}^{2} + C_{2}^{2} S_{1}^{2} S_{3}^{2} + C_{3}^{2} S_{1}^{2} S_{2}^{2} + S_{1}^{2} S_{2}^{2} S_{3}^{2}} + \\frac{az \\left(C_{2} C_{3} - S_{2} S_{3}\\right)}{C_{2}^{2} C_{3}^{2} + C_{2}^{2} S_{3}^{2} + C_{3}^{2} S_{2}^{2} + S_{2}^{2} S_{3}^{2}}\\end{matrix}\\right]$"
            ],
            "text/plain": [
              "Matrix([\n",
              "[  nx*(C1*C2*C3 - C1*S2*S3)/(C1**2*C2**2*C3**2 + C1**2*C2**2*S3**2 + C1**2*C3**2*S2**2 + C1**2*S2**2*S3**2 + C2**2*C3**2*S1**2 + C2**2*S1**2*S3**2 + C3**2*S1**2*S2**2 + S1**2*S2**2*S3**2) + ny*(C2*C3*S1 - S1*S2*S3)/(C1**2*C2**2*C3**2 + C1**2*C2**2*S3**2 + C1**2*C3**2*S2**2 + C1**2*S2**2*S3**2 + C2**2*C3**2*S1**2 + C2**2*S1**2*S3**2 + C3**2*S1**2*S2**2 + S1**2*S2**2*S3**2) + nz*(C2*S3 + C3*S2)/(C2**2*C3**2 + C2**2*S3**2 + C3**2*S2**2 + S2**2*S3**2),   ox*(C1*C2*C3 - C1*S2*S3)/(C1**2*C2**2*C3**2 + C1**2*C2**2*S3**2 + C1**2*C3**2*S2**2 + C1**2*S2**2*S3**2 + C2**2*C3**2*S1**2 + C2**2*S1**2*S3**2 + C3**2*S1**2*S2**2 + S1**2*S2**2*S3**2) + oy*(C2*C3*S1 - S1*S2*S3)/(C1**2*C2**2*C3**2 + C1**2*C2**2*S3**2 + C1**2*C3**2*S2**2 + C1**2*S2**2*S3**2 + C2**2*C3**2*S1**2 + C2**2*S1**2*S3**2 + C3**2*S1**2*S2**2 + S1**2*S2**2*S3**2) + oz*(C2*S3 + C3*S2)/(C2**2*C3**2 + C2**2*S3**2 + C3**2*S2**2 + S2**2*S3**2),   ax*(C1*C2*C3 - C1*S2*S3)/(C1**2*C2**2*C3**2 + C1**2*C2**2*S3**2 + C1**2*C3**2*S2**2 + C1**2*S2**2*S3**2 + C2**2*C3**2*S1**2 + C2**2*S1**2*S3**2 + C3**2*S1**2*S2**2 + S1**2*S2**2*S3**2) + ay*(C2*C3*S1 - S1*S2*S3)/(C1**2*C2**2*C3**2 + C1**2*C2**2*S3**2 + C1**2*C3**2*S2**2 + C1**2*S2**2*S3**2 + C2**2*C3**2*S1**2 + C2**2*S1**2*S3**2 + C3**2*S1**2*S2**2 + S1**2*S2**2*S3**2) + az*(C2*S3 + C3*S2)/(C2**2*C3**2 + C2**2*S3**2 + C3**2*S2**2 + S2**2*S3**2)],\n",
              "[                                                                                                                                                                                                                                                                                                                                                                                                                     C1*ny/(C1**2 + S1**2) - S1*nx/(C1**2 + S1**2),                                                                                                                                                                                                                                                                                                                                                                                                                      C1*oy/(C1**2 + S1**2) - S1*ox/(C1**2 + S1**2),                                                                                                                                                                                                                                                                                                                                                                                                                      C1*ay/(C1**2 + S1**2) - S1*ax/(C1**2 + S1**2)],\n",
              "[nx*(-C1*C2*S3 - C1*C3*S2)/(C1**2*C2**2*C3**2 + C1**2*C2**2*S3**2 + C1**2*C3**2*S2**2 + C1**2*S2**2*S3**2 + C2**2*C3**2*S1**2 + C2**2*S1**2*S3**2 + C3**2*S1**2*S2**2 + S1**2*S2**2*S3**2) + ny*(-C2*S1*S3 - C3*S1*S2)/(C1**2*C2**2*C3**2 + C1**2*C2**2*S3**2 + C1**2*C3**2*S2**2 + C1**2*S2**2*S3**2 + C2**2*C3**2*S1**2 + C2**2*S1**2*S3**2 + C3**2*S1**2*S2**2 + S1**2*S2**2*S3**2) + nz*(C2*C3 - S2*S3)/(C2**2*C3**2 + C2**2*S3**2 + C3**2*S2**2 + S2**2*S3**2), ox*(-C1*C2*S3 - C1*C3*S2)/(C1**2*C2**2*C3**2 + C1**2*C2**2*S3**2 + C1**2*C3**2*S2**2 + C1**2*S2**2*S3**2 + C2**2*C3**2*S1**2 + C2**2*S1**2*S3**2 + C3**2*S1**2*S2**2 + S1**2*S2**2*S3**2) + oy*(-C2*S1*S3 - C3*S1*S2)/(C1**2*C2**2*C3**2 + C1**2*C2**2*S3**2 + C1**2*C3**2*S2**2 + C1**2*S2**2*S3**2 + C2**2*C3**2*S1**2 + C2**2*S1**2*S3**2 + C3**2*S1**2*S2**2 + S1**2*S2**2*S3**2) + oz*(C2*C3 - S2*S3)/(C2**2*C3**2 + C2**2*S3**2 + C3**2*S2**2 + S2**2*S3**2), ax*(-C1*C2*S3 - C1*C3*S2)/(C1**2*C2**2*C3**2 + C1**2*C2**2*S3**2 + C1**2*C3**2*S2**2 + C1**2*S2**2*S3**2 + C2**2*C3**2*S1**2 + C2**2*S1**2*S3**2 + C3**2*S1**2*S2**2 + S1**2*S2**2*S3**2) + ay*(-C2*S1*S3 - C3*S1*S2)/(C1**2*C2**2*C3**2 + C1**2*C2**2*S3**2 + C1**2*C3**2*S2**2 + C1**2*S2**2*S3**2 + C2**2*C3**2*S1**2 + C2**2*S1**2*S3**2 + C3**2*S1**2*S2**2 + S1**2*S2**2*S3**2) + az*(C2*C3 - S2*S3)/(C2**2*C3**2 + C2**2*S3**2 + C3**2*S2**2 + S2**2*S3**2)]])"
            ]
          },
          "execution_count": 84,
          "metadata": {},
          "output_type": "execute_result"
        }
      ],
      "source": [
        "R36"
      ]
    },
    {
      "cell_type": "code",
      "execution_count": null,
      "metadata": {
        "colab": {
          "base_uri": "https://localhost:8080/",
          "height": 78
        },
        "id": "kl7yvbQmGq1p",
        "outputId": "17f15f8c-6164-4ee3-880c-11e68cddae95"
      },
      "outputs": [
        {
          "data": {
            "text/latex": [
              "$\\displaystyle \\left[\\begin{matrix}C_{4} C_{5} C_{6} - S_{4} S_{6} & - C_{4} C_{5} S_{6} - C_{6} S_{4} & - C_{4} S_{5}\\\\C_{4} S_{6} + C_{5} C_{6} S_{4} & C_{4} C_{6} - C_{5} S_{4} S_{6} & - S_{4} S_{5}\\\\C_{6} S_{5} & - S_{5} S_{6} & C_{5}\\end{matrix}\\right]$"
            ],
            "text/plain": [
              "Matrix([\n",
              "[C4*C5*C6 - S4*S6, -C4*C5*S6 - C6*S4, -C4*S5],\n",
              "[C4*S6 + C5*C6*S4,  C4*C6 - C5*S4*S6, -S4*S5],\n",
              "[           C6*S5,            -S5*S6,     C5]])"
            ]
          },
          "execution_count": 85,
          "metadata": {},
          "output_type": "execute_result"
        }
      ],
      "source": [
        "R36izq"
      ]
    },
    {
      "cell_type": "code",
      "execution_count": null,
      "metadata": {
        "colab": {
          "base_uri": "https://localhost:8080/",
          "height": 60
        },
        "id": "cT3td1u0G_ge",
        "outputId": "b6b94215-50fc-4b61-8973-6e6deb3cbe42"
      },
      "outputs": [
        {
          "data": {
            "text/latex": [
              "$\\displaystyle \\frac{\\left(C_{2}^{2} + S_{2}^{2}\\right) \\left(C_{3}^{2} + S_{3}^{2}\\right) \\left(C_{1} ay - S_{1} ax\\right)}{C_{1}^{2} C_{2} S_{3} az + C_{1}^{2} C_{3} S_{2} az + C_{1} C_{2} C_{3} ax - C_{1} S_{2} S_{3} ax + C_{2} C_{3} S_{1} ay + C_{2} S_{1}^{2} S_{3} az + C_{3} S_{1}^{2} S_{2} az - S_{1} S_{2} S_{3} ay}$"
            ],
            "text/plain": [
              "(C2**2 + S2**2)*(C3**2 + S3**2)*(C1*ay - S1*ax)/(C1**2*C2*S3*az + C1**2*C3*S2*az + C1*C2*C3*ax - C1*S2*S3*ax + C2*C3*S1*ay + C2*S1**2*S3*az + C3*S1**2*S2*az - S1*S2*S3*ay)"
            ]
          },
          "execution_count": 99,
          "metadata": {},
          "output_type": "execute_result"
        }
      ],
      "source": [
        "(R36[1,2]/R36[0,2]).factor()\n",
        "#q4=np.arctan2(C1*ay-S1*ax,az*(C2*S3+cosq3*S2)+(C2*cosq3-S2*S3)*(ay*S1+ax*C1))\n",
        "\n",
        "#az*(C2*S3+cosq3*S2)\n",
        "#ay*(S1*(C2*cosq3-S2*S3))\n",
        "#ax*(C1*(C2*cosq3-S2*S3))"
      ]
    },
    {
      "cell_type": "code",
      "execution_count": null,
      "metadata": {
        "colab": {
          "base_uri": "https://localhost:8080/",
          "height": 54
        },
        "id": "XTi2-JDaHHlV",
        "outputId": "48b7500a-d9ea-4a55-bf30-82498b7fcf00"
      },
      "outputs": [
        {
          "data": {
            "text/latex": [
              "$\\displaystyle \\frac{S_{4}}{C_{4}}$"
            ],
            "text/plain": [
              "S4/C4"
            ]
          },
          "execution_count": 97,
          "metadata": {},
          "output_type": "execute_result"
        }
      ],
      "source": [
        "R36izq[1,2]/R36izq[0,2]"
      ]
    },
    {
      "cell_type": "markdown",
      "metadata": {
        "id": "I2QYiB5oGDTE"
      },
      "source": [
        "#Despeje de q5"
      ]
    },
    {
      "cell_type": "code",
      "execution_count": null,
      "metadata": {
        "colab": {
          "base_uri": "https://localhost:8080/",
          "height": 156
        },
        "id": "3bLe9jqm8ZRF",
        "outputId": "670fdee5-48ce-4bb4-f0ef-730cc4469f3d"
      },
      "outputs": [
        {
          "data": {
            "text/latex": [
              "$\\displaystyle \\left[\\begin{matrix}\\frac{C_{4} \\left(\\frac{nx \\left(C_{1} C_{2} C_{3} - C_{1} S_{2} S_{3}\\right)}{C_{1}^{2} C_{2}^{2} C_{3}^{2} + C_{1}^{2} C_{2}^{2} S_{3}^{2} + C_{1}^{2} C_{3}^{2} S_{2}^{2} + C_{1}^{2} S_{2}^{2} S_{3}^{2} + C_{2}^{2} C_{3}^{2} S_{1}^{2} + C_{2}^{2} S_{1}^{2} S_{3}^{2} + C_{3}^{2} S_{1}^{2} S_{2}^{2} + S_{1}^{2} S_{2}^{2} S_{3}^{2}} + \\frac{ny \\left(C_{2} C_{3} S_{1} - S_{1} S_{2} S_{3}\\right)}{C_{1}^{2} C_{2}^{2} C_{3}^{2} + C_{1}^{2} C_{2}^{2} S_{3}^{2} + C_{1}^{2} C_{3}^{2} S_{2}^{2} + C_{1}^{2} S_{2}^{2} S_{3}^{2} + C_{2}^{2} C_{3}^{2} S_{1}^{2} + C_{2}^{2} S_{1}^{2} S_{3}^{2} + C_{3}^{2} S_{1}^{2} S_{2}^{2} + S_{1}^{2} S_{2}^{2} S_{3}^{2}} + \\frac{nz \\left(C_{2} S_{3} + C_{3} S_{2}\\right)}{C_{2}^{2} C_{3}^{2} + C_{2}^{2} S_{3}^{2} + C_{3}^{2} S_{2}^{2} + S_{2}^{2} S_{3}^{2}}\\right)}{C_{4}^{2} + S_{4}^{2}} + \\frac{S_{4} \\left(\\frac{C_{1} ny}{C_{1}^{2} + S_{1}^{2}} - \\frac{S_{1} nx}{C_{1}^{2} + S_{1}^{2}}\\right)}{C_{4}^{2} + S_{4}^{2}} & \\frac{C_{4} \\left(\\frac{ox \\left(C_{1} C_{2} C_{3} - C_{1} S_{2} S_{3}\\right)}{C_{1}^{2} C_{2}^{2} C_{3}^{2} + C_{1}^{2} C_{2}^{2} S_{3}^{2} + C_{1}^{2} C_{3}^{2} S_{2}^{2} + C_{1}^{2} S_{2}^{2} S_{3}^{2} + C_{2}^{2} C_{3}^{2} S_{1}^{2} + C_{2}^{2} S_{1}^{2} S_{3}^{2} + C_{3}^{2} S_{1}^{2} S_{2}^{2} + S_{1}^{2} S_{2}^{2} S_{3}^{2}} + \\frac{oy \\left(C_{2} C_{3} S_{1} - S_{1} S_{2} S_{3}\\right)}{C_{1}^{2} C_{2}^{2} C_{3}^{2} + C_{1}^{2} C_{2}^{2} S_{3}^{2} + C_{1}^{2} C_{3}^{2} S_{2}^{2} + C_{1}^{2} S_{2}^{2} S_{3}^{2} + C_{2}^{2} C_{3}^{2} S_{1}^{2} + C_{2}^{2} S_{1}^{2} S_{3}^{2} + C_{3}^{2} S_{1}^{2} S_{2}^{2} + S_{1}^{2} S_{2}^{2} S_{3}^{2}} + \\frac{oz \\left(C_{2} S_{3} + C_{3} S_{2}\\right)}{C_{2}^{2} C_{3}^{2} + C_{2}^{2} S_{3}^{2} + C_{3}^{2} S_{2}^{2} + S_{2}^{2} S_{3}^{2}}\\right)}{C_{4}^{2} + S_{4}^{2}} + \\frac{S_{4} \\left(\\frac{C_{1} oy}{C_{1}^{2} + S_{1}^{2}} - \\frac{S_{1} ox}{C_{1}^{2} + S_{1}^{2}}\\right)}{C_{4}^{2} + S_{4}^{2}} & \\frac{C_{4} \\left(\\frac{ax \\left(C_{1} C_{2} C_{3} - C_{1} S_{2} S_{3}\\right)}{C_{1}^{2} C_{2}^{2} C_{3}^{2} + C_{1}^{2} C_{2}^{2} S_{3}^{2} + C_{1}^{2} C_{3}^{2} S_{2}^{2} + C_{1}^{2} S_{2}^{2} S_{3}^{2} + C_{2}^{2} C_{3}^{2} S_{1}^{2} + C_{2}^{2} S_{1}^{2} S_{3}^{2} + C_{3}^{2} S_{1}^{2} S_{2}^{2} + S_{1}^{2} S_{2}^{2} S_{3}^{2}} + \\frac{ay \\left(C_{2} C_{3} S_{1} - S_{1} S_{2} S_{3}\\right)}{C_{1}^{2} C_{2}^{2} C_{3}^{2} + C_{1}^{2} C_{2}^{2} S_{3}^{2} + C_{1}^{2} C_{3}^{2} S_{2}^{2} + C_{1}^{2} S_{2}^{2} S_{3}^{2} + C_{2}^{2} C_{3}^{2} S_{1}^{2} + C_{2}^{2} S_{1}^{2} S_{3}^{2} + C_{3}^{2} S_{1}^{2} S_{2}^{2} + S_{1}^{2} S_{2}^{2} S_{3}^{2}} + \\frac{az \\left(C_{2} S_{3} + C_{3} S_{2}\\right)}{C_{2}^{2} C_{3}^{2} + C_{2}^{2} S_{3}^{2} + C_{3}^{2} S_{2}^{2} + S_{2}^{2} S_{3}^{2}}\\right)}{C_{4}^{2} + S_{4}^{2}} + \\frac{S_{4} \\left(\\frac{C_{1} ay}{C_{1}^{2} + S_{1}^{2}} - \\frac{S_{1} ax}{C_{1}^{2} + S_{1}^{2}}\\right)}{C_{4}^{2} + S_{4}^{2}}\\\\\\frac{nx \\left(- C_{1} C_{2} S_{3} - C_{1} C_{3} S_{2}\\right)}{C_{1}^{2} C_{2}^{2} C_{3}^{2} + C_{1}^{2} C_{2}^{2} S_{3}^{2} + C_{1}^{2} C_{3}^{2} S_{2}^{2} + C_{1}^{2} S_{2}^{2} S_{3}^{2} + C_{2}^{2} C_{3}^{2} S_{1}^{2} + C_{2}^{2} S_{1}^{2} S_{3}^{2} + C_{3}^{2} S_{1}^{2} S_{2}^{2} + S_{1}^{2} S_{2}^{2} S_{3}^{2}} + \\frac{ny \\left(- C_{2} S_{1} S_{3} - C_{3} S_{1} S_{2}\\right)}{C_{1}^{2} C_{2}^{2} C_{3}^{2} + C_{1}^{2} C_{2}^{2} S_{3}^{2} + C_{1}^{2} C_{3}^{2} S_{2}^{2} + C_{1}^{2} S_{2}^{2} S_{3}^{2} + C_{2}^{2} C_{3}^{2} S_{1}^{2} + C_{2}^{2} S_{1}^{2} S_{3}^{2} + C_{3}^{2} S_{1}^{2} S_{2}^{2} + S_{1}^{2} S_{2}^{2} S_{3}^{2}} + \\frac{nz \\left(C_{2} C_{3} - S_{2} S_{3}\\right)}{C_{2}^{2} C_{3}^{2} + C_{2}^{2} S_{3}^{2} + C_{3}^{2} S_{2}^{2} + S_{2}^{2} S_{3}^{2}} & \\frac{ox \\left(- C_{1} C_{2} S_{3} - C_{1} C_{3} S_{2}\\right)}{C_{1}^{2} C_{2}^{2} C_{3}^{2} + C_{1}^{2} C_{2}^{2} S_{3}^{2} + C_{1}^{2} C_{3}^{2} S_{2}^{2} + C_{1}^{2} S_{2}^{2} S_{3}^{2} + C_{2}^{2} C_{3}^{2} S_{1}^{2} + C_{2}^{2} S_{1}^{2} S_{3}^{2} + C_{3}^{2} S_{1}^{2} S_{2}^{2} + S_{1}^{2} S_{2}^{2} S_{3}^{2}} + \\frac{oy \\left(- C_{2} S_{1} S_{3} - C_{3} S_{1} S_{2}\\right)}{C_{1}^{2} C_{2}^{2} C_{3}^{2} + C_{1}^{2} C_{2}^{2} S_{3}^{2} + C_{1}^{2} C_{3}^{2} S_{2}^{2} + C_{1}^{2} S_{2}^{2} S_{3}^{2} + C_{2}^{2} C_{3}^{2} S_{1}^{2} + C_{2}^{2} S_{1}^{2} S_{3}^{2} + C_{3}^{2} S_{1}^{2} S_{2}^{2} + S_{1}^{2} S_{2}^{2} S_{3}^{2}} + \\frac{oz \\left(C_{2} C_{3} - S_{2} S_{3}\\right)}{C_{2}^{2} C_{3}^{2} + C_{2}^{2} S_{3}^{2} + C_{3}^{2} S_{2}^{2} + S_{2}^{2} S_{3}^{2}} & \\frac{ax \\left(- C_{1} C_{2} S_{3} - C_{1} C_{3} S_{2}\\right)}{C_{1}^{2} C_{2}^{2} C_{3}^{2} + C_{1}^{2} C_{2}^{2} S_{3}^{2} + C_{1}^{2} C_{3}^{2} S_{2}^{2} + C_{1}^{2} S_{2}^{2} S_{3}^{2} + C_{2}^{2} C_{3}^{2} S_{1}^{2} + C_{2}^{2} S_{1}^{2} S_{3}^{2} + C_{3}^{2} S_{1}^{2} S_{2}^{2} + S_{1}^{2} S_{2}^{2} S_{3}^{2}} + \\frac{ay \\left(- C_{2} S_{1} S_{3} - C_{3} S_{1} S_{2}\\right)}{C_{1}^{2} C_{2}^{2} C_{3}^{2} + C_{1}^{2} C_{2}^{2} S_{3}^{2} + C_{1}^{2} C_{3}^{2} S_{2}^{2} + C_{1}^{2} S_{2}^{2} S_{3}^{2} + C_{2}^{2} C_{3}^{2} S_{1}^{2} + C_{2}^{2} S_{1}^{2} S_{3}^{2} + C_{3}^{2} S_{1}^{2} S_{2}^{2} + S_{1}^{2} S_{2}^{2} S_{3}^{2}} + \\frac{az \\left(C_{2} C_{3} - S_{2} S_{3}\\right)}{C_{2}^{2} C_{3}^{2} + C_{2}^{2} S_{3}^{2} + C_{3}^{2} S_{2}^{2} + S_{2}^{2} S_{3}^{2}}\\\\\\frac{C_{4} \\left(\\frac{C_{1} ny}{C_{1}^{2} + S_{1}^{2}} - \\frac{S_{1} nx}{C_{1}^{2} + S_{1}^{2}}\\right)}{- C_{4}^{2} - S_{4}^{2}} + \\frac{S_{4} \\left(\\frac{nx \\left(C_{1} C_{2} C_{3} - C_{1} S_{2} S_{3}\\right)}{C_{1}^{2} C_{2}^{2} C_{3}^{2} + C_{1}^{2} C_{2}^{2} S_{3}^{2} + C_{1}^{2} C_{3}^{2} S_{2}^{2} + C_{1}^{2} S_{2}^{2} S_{3}^{2} + C_{2}^{2} C_{3}^{2} S_{1}^{2} + C_{2}^{2} S_{1}^{2} S_{3}^{2} + C_{3}^{2} S_{1}^{2} S_{2}^{2} + S_{1}^{2} S_{2}^{2} S_{3}^{2}} + \\frac{ny \\left(C_{2} C_{3} S_{1} - S_{1} S_{2} S_{3}\\right)}{C_{1}^{2} C_{2}^{2} C_{3}^{2} + C_{1}^{2} C_{2}^{2} S_{3}^{2} + C_{1}^{2} C_{3}^{2} S_{2}^{2} + C_{1}^{2} S_{2}^{2} S_{3}^{2} + C_{2}^{2} C_{3}^{2} S_{1}^{2} + C_{2}^{2} S_{1}^{2} S_{3}^{2} + C_{3}^{2} S_{1}^{2} S_{2}^{2} + S_{1}^{2} S_{2}^{2} S_{3}^{2}} + \\frac{nz \\left(C_{2} S_{3} + C_{3} S_{2}\\right)}{C_{2}^{2} C_{3}^{2} + C_{2}^{2} S_{3}^{2} + C_{3}^{2} S_{2}^{2} + S_{2}^{2} S_{3}^{2}}\\right)}{C_{4}^{2} + S_{4}^{2}} & \\frac{C_{4} \\left(\\frac{C_{1} oy}{C_{1}^{2} + S_{1}^{2}} - \\frac{S_{1} ox}{C_{1}^{2} + S_{1}^{2}}\\right)}{- C_{4}^{2} - S_{4}^{2}} + \\frac{S_{4} \\left(\\frac{ox \\left(C_{1} C_{2} C_{3} - C_{1} S_{2} S_{3}\\right)}{C_{1}^{2} C_{2}^{2} C_{3}^{2} + C_{1}^{2} C_{2}^{2} S_{3}^{2} + C_{1}^{2} C_{3}^{2} S_{2}^{2} + C_{1}^{2} S_{2}^{2} S_{3}^{2} + C_{2}^{2} C_{3}^{2} S_{1}^{2} + C_{2}^{2} S_{1}^{2} S_{3}^{2} + C_{3}^{2} S_{1}^{2} S_{2}^{2} + S_{1}^{2} S_{2}^{2} S_{3}^{2}} + \\frac{oy \\left(C_{2} C_{3} S_{1} - S_{1} S_{2} S_{3}\\right)}{C_{1}^{2} C_{2}^{2} C_{3}^{2} + C_{1}^{2} C_{2}^{2} S_{3}^{2} + C_{1}^{2} C_{3}^{2} S_{2}^{2} + C_{1}^{2} S_{2}^{2} S_{3}^{2} + C_{2}^{2} C_{3}^{2} S_{1}^{2} + C_{2}^{2} S_{1}^{2} S_{3}^{2} + C_{3}^{2} S_{1}^{2} S_{2}^{2} + S_{1}^{2} S_{2}^{2} S_{3}^{2}} + \\frac{oz \\left(C_{2} S_{3} + C_{3} S_{2}\\right)}{C_{2}^{2} C_{3}^{2} + C_{2}^{2} S_{3}^{2} + C_{3}^{2} S_{2}^{2} + S_{2}^{2} S_{3}^{2}}\\right)}{C_{4}^{2} + S_{4}^{2}} & \\frac{C_{4} \\left(\\frac{C_{1} ay}{C_{1}^{2} + S_{1}^{2}} - \\frac{S_{1} ax}{C_{1}^{2} + S_{1}^{2}}\\right)}{- C_{4}^{2} - S_{4}^{2}} + \\frac{S_{4} \\left(\\frac{ax \\left(C_{1} C_{2} C_{3} - C_{1} S_{2} S_{3}\\right)}{C_{1}^{2} C_{2}^{2} C_{3}^{2} + C_{1}^{2} C_{2}^{2} S_{3}^{2} + C_{1}^{2} C_{3}^{2} S_{2}^{2} + C_{1}^{2} S_{2}^{2} S_{3}^{2} + C_{2}^{2} C_{3}^{2} S_{1}^{2} + C_{2}^{2} S_{1}^{2} S_{3}^{2} + C_{3}^{2} S_{1}^{2} S_{2}^{2} + S_{1}^{2} S_{2}^{2} S_{3}^{2}} + \\frac{ay \\left(C_{2} C_{3} S_{1} - S_{1} S_{2} S_{3}\\right)}{C_{1}^{2} C_{2}^{2} C_{3}^{2} + C_{1}^{2} C_{2}^{2} S_{3}^{2} + C_{1}^{2} C_{3}^{2} S_{2}^{2} + C_{1}^{2} S_{2}^{2} S_{3}^{2} + C_{2}^{2} C_{3}^{2} S_{1}^{2} + C_{2}^{2} S_{1}^{2} S_{3}^{2} + C_{3}^{2} S_{1}^{2} S_{2}^{2} + S_{1}^{2} S_{2}^{2} S_{3}^{2}} + \\frac{az \\left(C_{2} S_{3} + C_{3} S_{2}\\right)}{C_{2}^{2} C_{3}^{2} + C_{2}^{2} S_{3}^{2} + C_{3}^{2} S_{2}^{2} + S_{2}^{2} S_{3}^{2}}\\right)}{C_{4}^{2} + S_{4}^{2}}\\end{matrix}\\right]$"
            ],
            "text/plain": [
              "Matrix([\n",
              "[ C4*(nx*(C1*C2*C3 - C1*S2*S3)/(C1**2*C2**2*C3**2 + C1**2*C2**2*S3**2 + C1**2*C3**2*S2**2 + C1**2*S2**2*S3**2 + C2**2*C3**2*S1**2 + C2**2*S1**2*S3**2 + C3**2*S1**2*S2**2 + S1**2*S2**2*S3**2) + ny*(C2*C3*S1 - S1*S2*S3)/(C1**2*C2**2*C3**2 + C1**2*C2**2*S3**2 + C1**2*C3**2*S2**2 + C1**2*S2**2*S3**2 + C2**2*C3**2*S1**2 + C2**2*S1**2*S3**2 + C3**2*S1**2*S2**2 + S1**2*S2**2*S3**2) + nz*(C2*S3 + C3*S2)/(C2**2*C3**2 + C2**2*S3**2 + C3**2*S2**2 + S2**2*S3**2))/(C4**2 + S4**2) + S4*(C1*ny/(C1**2 + S1**2) - S1*nx/(C1**2 + S1**2))/(C4**2 + S4**2),  C4*(ox*(C1*C2*C3 - C1*S2*S3)/(C1**2*C2**2*C3**2 + C1**2*C2**2*S3**2 + C1**2*C3**2*S2**2 + C1**2*S2**2*S3**2 + C2**2*C3**2*S1**2 + C2**2*S1**2*S3**2 + C3**2*S1**2*S2**2 + S1**2*S2**2*S3**2) + oy*(C2*C3*S1 - S1*S2*S3)/(C1**2*C2**2*C3**2 + C1**2*C2**2*S3**2 + C1**2*C3**2*S2**2 + C1**2*S2**2*S3**2 + C2**2*C3**2*S1**2 + C2**2*S1**2*S3**2 + C3**2*S1**2*S2**2 + S1**2*S2**2*S3**2) + oz*(C2*S3 + C3*S2)/(C2**2*C3**2 + C2**2*S3**2 + C3**2*S2**2 + S2**2*S3**2))/(C4**2 + S4**2) + S4*(C1*oy/(C1**2 + S1**2) - S1*ox/(C1**2 + S1**2))/(C4**2 + S4**2),  C4*(ax*(C1*C2*C3 - C1*S2*S3)/(C1**2*C2**2*C3**2 + C1**2*C2**2*S3**2 + C1**2*C3**2*S2**2 + C1**2*S2**2*S3**2 + C2**2*C3**2*S1**2 + C2**2*S1**2*S3**2 + C3**2*S1**2*S2**2 + S1**2*S2**2*S3**2) + ay*(C2*C3*S1 - S1*S2*S3)/(C1**2*C2**2*C3**2 + C1**2*C2**2*S3**2 + C1**2*C3**2*S2**2 + C1**2*S2**2*S3**2 + C2**2*C3**2*S1**2 + C2**2*S1**2*S3**2 + C3**2*S1**2*S2**2 + S1**2*S2**2*S3**2) + az*(C2*S3 + C3*S2)/(C2**2*C3**2 + C2**2*S3**2 + C3**2*S2**2 + S2**2*S3**2))/(C4**2 + S4**2) + S4*(C1*ay/(C1**2 + S1**2) - S1*ax/(C1**2 + S1**2))/(C4**2 + S4**2)],\n",
              "[                                                                                         nx*(-C1*C2*S3 - C1*C3*S2)/(C1**2*C2**2*C3**2 + C1**2*C2**2*S3**2 + C1**2*C3**2*S2**2 + C1**2*S2**2*S3**2 + C2**2*C3**2*S1**2 + C2**2*S1**2*S3**2 + C3**2*S1**2*S2**2 + S1**2*S2**2*S3**2) + ny*(-C2*S1*S3 - C3*S1*S2)/(C1**2*C2**2*C3**2 + C1**2*C2**2*S3**2 + C1**2*C3**2*S2**2 + C1**2*S2**2*S3**2 + C2**2*C3**2*S1**2 + C2**2*S1**2*S3**2 + C3**2*S1**2*S2**2 + S1**2*S2**2*S3**2) + nz*(C2*C3 - S2*S3)/(C2**2*C3**2 + C2**2*S3**2 + C3**2*S2**2 + S2**2*S3**2),                                                                                          ox*(-C1*C2*S3 - C1*C3*S2)/(C1**2*C2**2*C3**2 + C1**2*C2**2*S3**2 + C1**2*C3**2*S2**2 + C1**2*S2**2*S3**2 + C2**2*C3**2*S1**2 + C2**2*S1**2*S3**2 + C3**2*S1**2*S2**2 + S1**2*S2**2*S3**2) + oy*(-C2*S1*S3 - C3*S1*S2)/(C1**2*C2**2*C3**2 + C1**2*C2**2*S3**2 + C1**2*C3**2*S2**2 + C1**2*S2**2*S3**2 + C2**2*C3**2*S1**2 + C2**2*S1**2*S3**2 + C3**2*S1**2*S2**2 + S1**2*S2**2*S3**2) + oz*(C2*C3 - S2*S3)/(C2**2*C3**2 + C2**2*S3**2 + C3**2*S2**2 + S2**2*S3**2),                                                                                          ax*(-C1*C2*S3 - C1*C3*S2)/(C1**2*C2**2*C3**2 + C1**2*C2**2*S3**2 + C1**2*C3**2*S2**2 + C1**2*S2**2*S3**2 + C2**2*C3**2*S1**2 + C2**2*S1**2*S3**2 + C3**2*S1**2*S2**2 + S1**2*S2**2*S3**2) + ay*(-C2*S1*S3 - C3*S1*S2)/(C1**2*C2**2*C3**2 + C1**2*C2**2*S3**2 + C1**2*C3**2*S2**2 + C1**2*S2**2*S3**2 + C2**2*C3**2*S1**2 + C2**2*S1**2*S3**2 + C3**2*S1**2*S2**2 + S1**2*S2**2*S3**2) + az*(C2*C3 - S2*S3)/(C2**2*C3**2 + C2**2*S3**2 + C3**2*S2**2 + S2**2*S3**2)],\n",
              "[C4*(C1*ny/(C1**2 + S1**2) - S1*nx/(C1**2 + S1**2))/(-C4**2 - S4**2) + S4*(nx*(C1*C2*C3 - C1*S2*S3)/(C1**2*C2**2*C3**2 + C1**2*C2**2*S3**2 + C1**2*C3**2*S2**2 + C1**2*S2**2*S3**2 + C2**2*C3**2*S1**2 + C2**2*S1**2*S3**2 + C3**2*S1**2*S2**2 + S1**2*S2**2*S3**2) + ny*(C2*C3*S1 - S1*S2*S3)/(C1**2*C2**2*C3**2 + C1**2*C2**2*S3**2 + C1**2*C3**2*S2**2 + C1**2*S2**2*S3**2 + C2**2*C3**2*S1**2 + C2**2*S1**2*S3**2 + C3**2*S1**2*S2**2 + S1**2*S2**2*S3**2) + nz*(C2*S3 + C3*S2)/(C2**2*C3**2 + C2**2*S3**2 + C3**2*S2**2 + S2**2*S3**2))/(C4**2 + S4**2), C4*(C1*oy/(C1**2 + S1**2) - S1*ox/(C1**2 + S1**2))/(-C4**2 - S4**2) + S4*(ox*(C1*C2*C3 - C1*S2*S3)/(C1**2*C2**2*C3**2 + C1**2*C2**2*S3**2 + C1**2*C3**2*S2**2 + C1**2*S2**2*S3**2 + C2**2*C3**2*S1**2 + C2**2*S1**2*S3**2 + C3**2*S1**2*S2**2 + S1**2*S2**2*S3**2) + oy*(C2*C3*S1 - S1*S2*S3)/(C1**2*C2**2*C3**2 + C1**2*C2**2*S3**2 + C1**2*C3**2*S2**2 + C1**2*S2**2*S3**2 + C2**2*C3**2*S1**2 + C2**2*S1**2*S3**2 + C3**2*S1**2*S2**2 + S1**2*S2**2*S3**2) + oz*(C2*S3 + C3*S2)/(C2**2*C3**2 + C2**2*S3**2 + C3**2*S2**2 + S2**2*S3**2))/(C4**2 + S4**2), C4*(C1*ay/(C1**2 + S1**2) - S1*ax/(C1**2 + S1**2))/(-C4**2 - S4**2) + S4*(ax*(C1*C2*C3 - C1*S2*S3)/(C1**2*C2**2*C3**2 + C1**2*C2**2*S3**2 + C1**2*C3**2*S2**2 + C1**2*S2**2*S3**2 + C2**2*C3**2*S1**2 + C2**2*S1**2*S3**2 + C3**2*S1**2*S2**2 + S1**2*S2**2*S3**2) + ay*(C2*C3*S1 - S1*S2*S3)/(C1**2*C2**2*C3**2 + C1**2*C2**2*S3**2 + C1**2*C3**2*S2**2 + C1**2*S2**2*S3**2 + C2**2*C3**2*S1**2 + C2**2*S1**2*S3**2 + C3**2*S1**2*S2**2 + S1**2*S2**2*S3**2) + az*(C2*S3 + C3*S2)/(C2**2*C3**2 + C2**2*S3**2 + C3**2*S2**2 + S2**2*S3**2))/(C4**2 + S4**2)]])"
            ]
          },
          "execution_count": 67,
          "metadata": {},
          "output_type": "execute_result"
        }
      ],
      "source": [
        "R46"
      ]
    },
    {
      "cell_type": "code",
      "execution_count": null,
      "metadata": {
        "colab": {
          "base_uri": "https://localhost:8080/",
          "height": 78
        },
        "id": "qXjJ0hMjANRC",
        "outputId": "1155c136-bfee-48c4-ebd7-59e1ee1d485f"
      },
      "outputs": [
        {
          "data": {
            "text/latex": [
              "$\\displaystyle \\left[\\begin{matrix}C_{5} C_{6} & - C_{5} S_{6} & - S_{5}\\\\C_{6} S_{5} & - S_{5} S_{6} & C_{5}\\\\- S_{6} & - C_{6} & 0\\end{matrix}\\right]$"
            ],
            "text/plain": [
              "Matrix([\n",
              "[C5*C6, -C5*S6, -S5],\n",
              "[C6*S5, -S5*S6,  C5],\n",
              "[  -S6,    -C6,   0]])"
            ]
          },
          "execution_count": 68,
          "metadata": {},
          "output_type": "execute_result"
        }
      ],
      "source": [
        "R46izq"
      ]
    },
    {
      "cell_type": "code",
      "execution_count": null,
      "metadata": {
        "colab": {
          "base_uri": "https://localhost:8080/",
          "height": 39
        },
        "id": "OWMk6L0QAduy",
        "outputId": "6f9274d0-5817-46e7-bd4f-8267270122e2"
      },
      "outputs": [
        {
          "data": {
            "text/latex": [
              "$\\displaystyle C_{5}$"
            ],
            "text/plain": [
              "C5"
            ]
          },
          "execution_count": 77,
          "metadata": {},
          "output_type": "execute_result"
        }
      ],
      "source": [
        "R46izq[1,2]\n",
        "#q5=np.arccos(-ax*C1*(C2*S3+cosq3*S2)-ay*S1*(C2*S3+cosq3*S2)+az*(C2*cosq3-S2*S3))"
      ]
    },
    {
      "cell_type": "code",
      "execution_count": null,
      "metadata": {
        "colab": {
          "base_uri": "https://localhost:8080/",
          "height": 58
        },
        "id": "MAUfMypOAqF8",
        "outputId": "1b6deb61-71eb-4b6c-ce9a-cedee2143deb"
      },
      "outputs": [
        {
          "data": {
            "text/latex": [
              "$\\displaystyle \\frac{C_{1}^{2} C_{2} C_{3} az - C_{1}^{2} S_{2} S_{3} az - C_{1} C_{2} S_{3} ax - C_{1} C_{3} S_{2} ax + C_{2} C_{3} S_{1}^{2} az - C_{2} S_{1} S_{3} ay - C_{3} S_{1} S_{2} ay - S_{1}^{2} S_{2} S_{3} az}{\\left(C_{1}^{2} + S_{1}^{2}\\right) \\left(C_{2}^{2} + S_{2}^{2}\\right) \\left(C_{3}^{2} + S_{3}^{2}\\right)}$"
            ],
            "text/plain": [
              "(C1**2*C2*C3*az - C1**2*S2*S3*az - C1*C2*S3*ax - C1*C3*S2*ax + C2*C3*S1**2*az - C2*S1*S3*ay - C3*S1*S2*ay - S1**2*S2*S3*az)/((C1**2 + S1**2)*(C2**2 + S2**2)*(C3**2 + S3**2))"
            ]
          },
          "execution_count": 81,
          "metadata": {},
          "output_type": "execute_result"
        }
      ],
      "source": [
        "R46[1,2].factor()\n",
        "\n",
        "#-ax*C1*(C2*S3+cosq3*S2)\n",
        "#-ay*S1*(C2*S3+cosq3*S2)\n",
        "#az* (C1C1(C2cosq3-S2S3)+S1S1(C2cosq3-S2S3))=az*(C2*cosq3-S2*S3)"
      ]
    },
    {
      "cell_type": "markdown",
      "metadata": {
        "id": "n3-TS0vjGB0r"
      },
      "source": [
        "#Despeje de q6"
      ]
    },
    {
      "cell_type": "code",
      "execution_count": null,
      "metadata": {
        "colab": {
          "base_uri": "https://localhost:8080/",
          "height": 237
        },
        "id": "R9fSV39FFPy-",
        "outputId": "8d3a2b6a-e22b-4958-85c3-bcef5ca54a69"
      },
      "outputs": [
        {
          "data": {
            "text/latex": [
              "$\\displaystyle \\left[\\begin{matrix}\\frac{C_{5} \\left(\\frac{C_{4} \\left(\\frac{nx \\left(C_{1} C_{2} C_{3} - C_{1} S_{2} S_{3}\\right)}{C_{1}^{2} C_{2}^{2} C_{3}^{2} + C_{1}^{2} C_{2}^{2} S_{3}^{2} + C_{1}^{2} C_{3}^{2} S_{2}^{2} + C_{1}^{2} S_{2}^{2} S_{3}^{2} + C_{2}^{2} C_{3}^{2} S_{1}^{2} + C_{2}^{2} S_{1}^{2} S_{3}^{2} + C_{3}^{2} S_{1}^{2} S_{2}^{2} + S_{1}^{2} S_{2}^{2} S_{3}^{2}} + \\frac{ny \\left(C_{2} C_{3} S_{1} - S_{1} S_{2} S_{3}\\right)}{C_{1}^{2} C_{2}^{2} C_{3}^{2} + C_{1}^{2} C_{2}^{2} S_{3}^{2} + C_{1}^{2} C_{3}^{2} S_{2}^{2} + C_{1}^{2} S_{2}^{2} S_{3}^{2} + C_{2}^{2} C_{3}^{2} S_{1}^{2} + C_{2}^{2} S_{1}^{2} S_{3}^{2} + C_{3}^{2} S_{1}^{2} S_{2}^{2} + S_{1}^{2} S_{2}^{2} S_{3}^{2}} + \\frac{nz \\left(C_{2} S_{3} + C_{3} S_{2}\\right)}{C_{2}^{2} C_{3}^{2} + C_{2}^{2} S_{3}^{2} + C_{3}^{2} S_{2}^{2} + S_{2}^{2} S_{3}^{2}}\\right)}{C_{4}^{2} + S_{4}^{2}} + \\frac{S_{4} \\left(\\frac{C_{1} ny}{C_{1}^{2} + S_{1}^{2}} - \\frac{S_{1} nx}{C_{1}^{2} + S_{1}^{2}}\\right)}{C_{4}^{2} + S_{4}^{2}}\\right)}{C_{5}^{2} + S_{5}^{2}} + \\frac{S_{5} \\left(\\frac{nx \\left(- C_{1} C_{2} S_{3} - C_{1} C_{3} S_{2}\\right)}{C_{1}^{2} C_{2}^{2} C_{3}^{2} + C_{1}^{2} C_{2}^{2} S_{3}^{2} + C_{1}^{2} C_{3}^{2} S_{2}^{2} + C_{1}^{2} S_{2}^{2} S_{3}^{2} + C_{2}^{2} C_{3}^{2} S_{1}^{2} + C_{2}^{2} S_{1}^{2} S_{3}^{2} + C_{3}^{2} S_{1}^{2} S_{2}^{2} + S_{1}^{2} S_{2}^{2} S_{3}^{2}} + \\frac{ny \\left(- C_{2} S_{1} S_{3} - C_{3} S_{1} S_{2}\\right)}{C_{1}^{2} C_{2}^{2} C_{3}^{2} + C_{1}^{2} C_{2}^{2} S_{3}^{2} + C_{1}^{2} C_{3}^{2} S_{2}^{2} + C_{1}^{2} S_{2}^{2} S_{3}^{2} + C_{2}^{2} C_{3}^{2} S_{1}^{2} + C_{2}^{2} S_{1}^{2} S_{3}^{2} + C_{3}^{2} S_{1}^{2} S_{2}^{2} + S_{1}^{2} S_{2}^{2} S_{3}^{2}} + \\frac{nz \\left(C_{2} C_{3} - S_{2} S_{3}\\right)}{C_{2}^{2} C_{3}^{2} + C_{2}^{2} S_{3}^{2} + C_{3}^{2} S_{2}^{2} + S_{2}^{2} S_{3}^{2}}\\right)}{C_{5}^{2} + S_{5}^{2}} & \\frac{C_{5} \\left(\\frac{C_{4} \\left(\\frac{ox \\left(C_{1} C_{2} C_{3} - C_{1} S_{2} S_{3}\\right)}{C_{1}^{2} C_{2}^{2} C_{3}^{2} + C_{1}^{2} C_{2}^{2} S_{3}^{2} + C_{1}^{2} C_{3}^{2} S_{2}^{2} + C_{1}^{2} S_{2}^{2} S_{3}^{2} + C_{2}^{2} C_{3}^{2} S_{1}^{2} + C_{2}^{2} S_{1}^{2} S_{3}^{2} + C_{3}^{2} S_{1}^{2} S_{2}^{2} + S_{1}^{2} S_{2}^{2} S_{3}^{2}} + \\frac{oy \\left(C_{2} C_{3} S_{1} - S_{1} S_{2} S_{3}\\right)}{C_{1}^{2} C_{2}^{2} C_{3}^{2} + C_{1}^{2} C_{2}^{2} S_{3}^{2} + C_{1}^{2} C_{3}^{2} S_{2}^{2} + C_{1}^{2} S_{2}^{2} S_{3}^{2} + C_{2}^{2} C_{3}^{2} S_{1}^{2} + C_{2}^{2} S_{1}^{2} S_{3}^{2} + C_{3}^{2} S_{1}^{2} S_{2}^{2} + S_{1}^{2} S_{2}^{2} S_{3}^{2}} + \\frac{oz \\left(C_{2} S_{3} + C_{3} S_{2}\\right)}{C_{2}^{2} C_{3}^{2} + C_{2}^{2} S_{3}^{2} + C_{3}^{2} S_{2}^{2} + S_{2}^{2} S_{3}^{2}}\\right)}{C_{4}^{2} + S_{4}^{2}} + \\frac{S_{4} \\left(\\frac{C_{1} oy}{C_{1}^{2} + S_{1}^{2}} - \\frac{S_{1} ox}{C_{1}^{2} + S_{1}^{2}}\\right)}{C_{4}^{2} + S_{4}^{2}}\\right)}{C_{5}^{2} + S_{5}^{2}} + \\frac{S_{5} \\left(\\frac{ox \\left(- C_{1} C_{2} S_{3} - C_{1} C_{3} S_{2}\\right)}{C_{1}^{2} C_{2}^{2} C_{3}^{2} + C_{1}^{2} C_{2}^{2} S_{3}^{2} + C_{1}^{2} C_{3}^{2} S_{2}^{2} + C_{1}^{2} S_{2}^{2} S_{3}^{2} + C_{2}^{2} C_{3}^{2} S_{1}^{2} + C_{2}^{2} S_{1}^{2} S_{3}^{2} + C_{3}^{2} S_{1}^{2} S_{2}^{2} + S_{1}^{2} S_{2}^{2} S_{3}^{2}} + \\frac{oy \\left(- C_{2} S_{1} S_{3} - C_{3} S_{1} S_{2}\\right)}{C_{1}^{2} C_{2}^{2} C_{3}^{2} + C_{1}^{2} C_{2}^{2} S_{3}^{2} + C_{1}^{2} C_{3}^{2} S_{2}^{2} + C_{1}^{2} S_{2}^{2} S_{3}^{2} + C_{2}^{2} C_{3}^{2} S_{1}^{2} + C_{2}^{2} S_{1}^{2} S_{3}^{2} + C_{3}^{2} S_{1}^{2} S_{2}^{2} + S_{1}^{2} S_{2}^{2} S_{3}^{2}} + \\frac{oz \\left(C_{2} C_{3} - S_{2} S_{3}\\right)}{C_{2}^{2} C_{3}^{2} + C_{2}^{2} S_{3}^{2} + C_{3}^{2} S_{2}^{2} + S_{2}^{2} S_{3}^{2}}\\right)}{C_{5}^{2} + S_{5}^{2}} & \\frac{C_{5} \\left(\\frac{C_{4} \\left(\\frac{ax \\left(C_{1} C_{2} C_{3} - C_{1} S_{2} S_{3}\\right)}{C_{1}^{2} C_{2}^{2} C_{3}^{2} + C_{1}^{2} C_{2}^{2} S_{3}^{2} + C_{1}^{2} C_{3}^{2} S_{2}^{2} + C_{1}^{2} S_{2}^{2} S_{3}^{2} + C_{2}^{2} C_{3}^{2} S_{1}^{2} + C_{2}^{2} S_{1}^{2} S_{3}^{2} + C_{3}^{2} S_{1}^{2} S_{2}^{2} + S_{1}^{2} S_{2}^{2} S_{3}^{2}} + \\frac{ay \\left(C_{2} C_{3} S_{1} - S_{1} S_{2} S_{3}\\right)}{C_{1}^{2} C_{2}^{2} C_{3}^{2} + C_{1}^{2} C_{2}^{2} S_{3}^{2} + C_{1}^{2} C_{3}^{2} S_{2}^{2} + C_{1}^{2} S_{2}^{2} S_{3}^{2} + C_{2}^{2} C_{3}^{2} S_{1}^{2} + C_{2}^{2} S_{1}^{2} S_{3}^{2} + C_{3}^{2} S_{1}^{2} S_{2}^{2} + S_{1}^{2} S_{2}^{2} S_{3}^{2}} + \\frac{az \\left(C_{2} S_{3} + C_{3} S_{2}\\right)}{C_{2}^{2} C_{3}^{2} + C_{2}^{2} S_{3}^{2} + C_{3}^{2} S_{2}^{2} + S_{2}^{2} S_{3}^{2}}\\right)}{C_{4}^{2} + S_{4}^{2}} + \\frac{S_{4} \\left(\\frac{C_{1} ay}{C_{1}^{2} + S_{1}^{2}} - \\frac{S_{1} ax}{C_{1}^{2} + S_{1}^{2}}\\right)}{C_{4}^{2} + S_{4}^{2}}\\right)}{C_{5}^{2} + S_{5}^{2}} + \\frac{S_{5} \\left(\\frac{ax \\left(- C_{1} C_{2} S_{3} - C_{1} C_{3} S_{2}\\right)}{C_{1}^{2} C_{2}^{2} C_{3}^{2} + C_{1}^{2} C_{2}^{2} S_{3}^{2} + C_{1}^{2} C_{3}^{2} S_{2}^{2} + C_{1}^{2} S_{2}^{2} S_{3}^{2} + C_{2}^{2} C_{3}^{2} S_{1}^{2} + C_{2}^{2} S_{1}^{2} S_{3}^{2} + C_{3}^{2} S_{1}^{2} S_{2}^{2} + S_{1}^{2} S_{2}^{2} S_{3}^{2}} + \\frac{ay \\left(- C_{2} S_{1} S_{3} - C_{3} S_{1} S_{2}\\right)}{C_{1}^{2} C_{2}^{2} C_{3}^{2} + C_{1}^{2} C_{2}^{2} S_{3}^{2} + C_{1}^{2} C_{3}^{2} S_{2}^{2} + C_{1}^{2} S_{2}^{2} S_{3}^{2} + C_{2}^{2} C_{3}^{2} S_{1}^{2} + C_{2}^{2} S_{1}^{2} S_{3}^{2} + C_{3}^{2} S_{1}^{2} S_{2}^{2} + S_{1}^{2} S_{2}^{2} S_{3}^{2}} + \\frac{az \\left(C_{2} C_{3} - S_{2} S_{3}\\right)}{C_{2}^{2} C_{3}^{2} + C_{2}^{2} S_{3}^{2} + C_{3}^{2} S_{2}^{2} + S_{2}^{2} S_{3}^{2}}\\right)}{C_{5}^{2} + S_{5}^{2}}\\\\- \\frac{C_{4} \\left(\\frac{C_{1} ny}{C_{1}^{2} + S_{1}^{2}} - \\frac{S_{1} nx}{C_{1}^{2} + S_{1}^{2}}\\right)}{- C_{4}^{2} - S_{4}^{2}} - \\frac{S_{4} \\left(\\frac{nx \\left(C_{1} C_{2} C_{3} - C_{1} S_{2} S_{3}\\right)}{C_{1}^{2} C_{2}^{2} C_{3}^{2} + C_{1}^{2} C_{2}^{2} S_{3}^{2} + C_{1}^{2} C_{3}^{2} S_{2}^{2} + C_{1}^{2} S_{2}^{2} S_{3}^{2} + C_{2}^{2} C_{3}^{2} S_{1}^{2} + C_{2}^{2} S_{1}^{2} S_{3}^{2} + C_{3}^{2} S_{1}^{2} S_{2}^{2} + S_{1}^{2} S_{2}^{2} S_{3}^{2}} + \\frac{ny \\left(C_{2} C_{3} S_{1} - S_{1} S_{2} S_{3}\\right)}{C_{1}^{2} C_{2}^{2} C_{3}^{2} + C_{1}^{2} C_{2}^{2} S_{3}^{2} + C_{1}^{2} C_{3}^{2} S_{2}^{2} + C_{1}^{2} S_{2}^{2} S_{3}^{2} + C_{2}^{2} C_{3}^{2} S_{1}^{2} + C_{2}^{2} S_{1}^{2} S_{3}^{2} + C_{3}^{2} S_{1}^{2} S_{2}^{2} + S_{1}^{2} S_{2}^{2} S_{3}^{2}} + \\frac{nz \\left(C_{2} S_{3} + C_{3} S_{2}\\right)}{C_{2}^{2} C_{3}^{2} + C_{2}^{2} S_{3}^{2} + C_{3}^{2} S_{2}^{2} + S_{2}^{2} S_{3}^{2}}\\right)}{C_{4}^{2} + S_{4}^{2}} & - \\frac{C_{4} \\left(\\frac{C_{1} oy}{C_{1}^{2} + S_{1}^{2}} - \\frac{S_{1} ox}{C_{1}^{2} + S_{1}^{2}}\\right)}{- C_{4}^{2} - S_{4}^{2}} - \\frac{S_{4} \\left(\\frac{ox \\left(C_{1} C_{2} C_{3} - C_{1} S_{2} S_{3}\\right)}{C_{1}^{2} C_{2}^{2} C_{3}^{2} + C_{1}^{2} C_{2}^{2} S_{3}^{2} + C_{1}^{2} C_{3}^{2} S_{2}^{2} + C_{1}^{2} S_{2}^{2} S_{3}^{2} + C_{2}^{2} C_{3}^{2} S_{1}^{2} + C_{2}^{2} S_{1}^{2} S_{3}^{2} + C_{3}^{2} S_{1}^{2} S_{2}^{2} + S_{1}^{2} S_{2}^{2} S_{3}^{2}} + \\frac{oy \\left(C_{2} C_{3} S_{1} - S_{1} S_{2} S_{3}\\right)}{C_{1}^{2} C_{2}^{2} C_{3}^{2} + C_{1}^{2} C_{2}^{2} S_{3}^{2} + C_{1}^{2} C_{3}^{2} S_{2}^{2} + C_{1}^{2} S_{2}^{2} S_{3}^{2} + C_{2}^{2} C_{3}^{2} S_{1}^{2} + C_{2}^{2} S_{1}^{2} S_{3}^{2} + C_{3}^{2} S_{1}^{2} S_{2}^{2} + S_{1}^{2} S_{2}^{2} S_{3}^{2}} + \\frac{oz \\left(C_{2} S_{3} + C_{3} S_{2}\\right)}{C_{2}^{2} C_{3}^{2} + C_{2}^{2} S_{3}^{2} + C_{3}^{2} S_{2}^{2} + S_{2}^{2} S_{3}^{2}}\\right)}{C_{4}^{2} + S_{4}^{2}} & - \\frac{C_{4} \\left(\\frac{C_{1} ay}{C_{1}^{2} + S_{1}^{2}} - \\frac{S_{1} ax}{C_{1}^{2} + S_{1}^{2}}\\right)}{- C_{4}^{2} - S_{4}^{2}} - \\frac{S_{4} \\left(\\frac{ax \\left(C_{1} C_{2} C_{3} - C_{1} S_{2} S_{3}\\right)}{C_{1}^{2} C_{2}^{2} C_{3}^{2} + C_{1}^{2} C_{2}^{2} S_{3}^{2} + C_{1}^{2} C_{3}^{2} S_{2}^{2} + C_{1}^{2} S_{2}^{2} S_{3}^{2} + C_{2}^{2} C_{3}^{2} S_{1}^{2} + C_{2}^{2} S_{1}^{2} S_{3}^{2} + C_{3}^{2} S_{1}^{2} S_{2}^{2} + S_{1}^{2} S_{2}^{2} S_{3}^{2}} + \\frac{ay \\left(C_{2} C_{3} S_{1} - S_{1} S_{2} S_{3}\\right)}{C_{1}^{2} C_{2}^{2} C_{3}^{2} + C_{1}^{2} C_{2}^{2} S_{3}^{2} + C_{1}^{2} C_{3}^{2} S_{2}^{2} + C_{1}^{2} S_{2}^{2} S_{3}^{2} + C_{2}^{2} C_{3}^{2} S_{1}^{2} + C_{2}^{2} S_{1}^{2} S_{3}^{2} + C_{3}^{2} S_{1}^{2} S_{2}^{2} + S_{1}^{2} S_{2}^{2} S_{3}^{2}} + \\frac{az \\left(C_{2} S_{3} + C_{3} S_{2}\\right)}{C_{2}^{2} C_{3}^{2} + C_{2}^{2} S_{3}^{2} + C_{3}^{2} S_{2}^{2} + S_{2}^{2} S_{3}^{2}}\\right)}{C_{4}^{2} + S_{4}^{2}}\\\\\\frac{C_{5} \\left(\\frac{nx \\left(- C_{1} C_{2} S_{3} - C_{1} C_{3} S_{2}\\right)}{C_{1}^{2} C_{2}^{2} C_{3}^{2} + C_{1}^{2} C_{2}^{2} S_{3}^{2} + C_{1}^{2} C_{3}^{2} S_{2}^{2} + C_{1}^{2} S_{2}^{2} S_{3}^{2} + C_{2}^{2} C_{3}^{2} S_{1}^{2} + C_{2}^{2} S_{1}^{2} S_{3}^{2} + C_{3}^{2} S_{1}^{2} S_{2}^{2} + S_{1}^{2} S_{2}^{2} S_{3}^{2}} + \\frac{ny \\left(- C_{2} S_{1} S_{3} - C_{3} S_{1} S_{2}\\right)}{C_{1}^{2} C_{2}^{2} C_{3}^{2} + C_{1}^{2} C_{2}^{2} S_{3}^{2} + C_{1}^{2} C_{3}^{2} S_{2}^{2} + C_{1}^{2} S_{2}^{2} S_{3}^{2} + C_{2}^{2} C_{3}^{2} S_{1}^{2} + C_{2}^{2} S_{1}^{2} S_{3}^{2} + C_{3}^{2} S_{1}^{2} S_{2}^{2} + S_{1}^{2} S_{2}^{2} S_{3}^{2}} + \\frac{nz \\left(C_{2} C_{3} - S_{2} S_{3}\\right)}{C_{2}^{2} C_{3}^{2} + C_{2}^{2} S_{3}^{2} + C_{3}^{2} S_{2}^{2} + S_{2}^{2} S_{3}^{2}}\\right)}{C_{5}^{2} + S_{5}^{2}} - \\frac{S_{5} \\left(\\frac{C_{4} \\left(\\frac{nx \\left(C_{1} C_{2} C_{3} - C_{1} S_{2} S_{3}\\right)}{C_{1}^{2} C_{2}^{2} C_{3}^{2} + C_{1}^{2} C_{2}^{2} S_{3}^{2} + C_{1}^{2} C_{3}^{2} S_{2}^{2} + C_{1}^{2} S_{2}^{2} S_{3}^{2} + C_{2}^{2} C_{3}^{2} S_{1}^{2} + C_{2}^{2} S_{1}^{2} S_{3}^{2} + C_{3}^{2} S_{1}^{2} S_{2}^{2} + S_{1}^{2} S_{2}^{2} S_{3}^{2}} + \\frac{ny \\left(C_{2} C_{3} S_{1} - S_{1} S_{2} S_{3}\\right)}{C_{1}^{2} C_{2}^{2} C_{3}^{2} + C_{1}^{2} C_{2}^{2} S_{3}^{2} + C_{1}^{2} C_{3}^{2} S_{2}^{2} + C_{1}^{2} S_{2}^{2} S_{3}^{2} + C_{2}^{2} C_{3}^{2} S_{1}^{2} + C_{2}^{2} S_{1}^{2} S_{3}^{2} + C_{3}^{2} S_{1}^{2} S_{2}^{2} + S_{1}^{2} S_{2}^{2} S_{3}^{2}} + \\frac{nz \\left(C_{2} S_{3} + C_{3} S_{2}\\right)}{C_{2}^{2} C_{3}^{2} + C_{2}^{2} S_{3}^{2} + C_{3}^{2} S_{2}^{2} + S_{2}^{2} S_{3}^{2}}\\right)}{C_{4}^{2} + S_{4}^{2}} + \\frac{S_{4} \\left(\\frac{C_{1} ny}{C_{1}^{2} + S_{1}^{2}} - \\frac{S_{1} nx}{C_{1}^{2} + S_{1}^{2}}\\right)}{C_{4}^{2} + S_{4}^{2}}\\right)}{C_{5}^{2} + S_{5}^{2}} & \\frac{C_{5} \\left(\\frac{ox \\left(- C_{1} C_{2} S_{3} - C_{1} C_{3} S_{2}\\right)}{C_{1}^{2} C_{2}^{2} C_{3}^{2} + C_{1}^{2} C_{2}^{2} S_{3}^{2} + C_{1}^{2} C_{3}^{2} S_{2}^{2} + C_{1}^{2} S_{2}^{2} S_{3}^{2} + C_{2}^{2} C_{3}^{2} S_{1}^{2} + C_{2}^{2} S_{1}^{2} S_{3}^{2} + C_{3}^{2} S_{1}^{2} S_{2}^{2} + S_{1}^{2} S_{2}^{2} S_{3}^{2}} + \\frac{oy \\left(- C_{2} S_{1} S_{3} - C_{3} S_{1} S_{2}\\right)}{C_{1}^{2} C_{2}^{2} C_{3}^{2} + C_{1}^{2} C_{2}^{2} S_{3}^{2} + C_{1}^{2} C_{3}^{2} S_{2}^{2} + C_{1}^{2} S_{2}^{2} S_{3}^{2} + C_{2}^{2} C_{3}^{2} S_{1}^{2} + C_{2}^{2} S_{1}^{2} S_{3}^{2} + C_{3}^{2} S_{1}^{2} S_{2}^{2} + S_{1}^{2} S_{2}^{2} S_{3}^{2}} + \\frac{oz \\left(C_{2} C_{3} - S_{2} S_{3}\\right)}{C_{2}^{2} C_{3}^{2} + C_{2}^{2} S_{3}^{2} + C_{3}^{2} S_{2}^{2} + S_{2}^{2} S_{3}^{2}}\\right)}{C_{5}^{2} + S_{5}^{2}} - \\frac{S_{5} \\left(\\frac{C_{4} \\left(\\frac{ox \\left(C_{1} C_{2} C_{3} - C_{1} S_{2} S_{3}\\right)}{C_{1}^{2} C_{2}^{2} C_{3}^{2} + C_{1}^{2} C_{2}^{2} S_{3}^{2} + C_{1}^{2} C_{3}^{2} S_{2}^{2} + C_{1}^{2} S_{2}^{2} S_{3}^{2} + C_{2}^{2} C_{3}^{2} S_{1}^{2} + C_{2}^{2} S_{1}^{2} S_{3}^{2} + C_{3}^{2} S_{1}^{2} S_{2}^{2} + S_{1}^{2} S_{2}^{2} S_{3}^{2}} + \\frac{oy \\left(C_{2} C_{3} S_{1} - S_{1} S_{2} S_{3}\\right)}{C_{1}^{2} C_{2}^{2} C_{3}^{2} + C_{1}^{2} C_{2}^{2} S_{3}^{2} + C_{1}^{2} C_{3}^{2} S_{2}^{2} + C_{1}^{2} S_{2}^{2} S_{3}^{2} + C_{2}^{2} C_{3}^{2} S_{1}^{2} + C_{2}^{2} S_{1}^{2} S_{3}^{2} + C_{3}^{2} S_{1}^{2} S_{2}^{2} + S_{1}^{2} S_{2}^{2} S_{3}^{2}} + \\frac{oz \\left(C_{2} S_{3} + C_{3} S_{2}\\right)}{C_{2}^{2} C_{3}^{2} + C_{2}^{2} S_{3}^{2} + C_{3}^{2} S_{2}^{2} + S_{2}^{2} S_{3}^{2}}\\right)}{C_{4}^{2} + S_{4}^{2}} + \\frac{S_{4} \\left(\\frac{C_{1} oy}{C_{1}^{2} + S_{1}^{2}} - \\frac{S_{1} ox}{C_{1}^{2} + S_{1}^{2}}\\right)}{C_{4}^{2} + S_{4}^{2}}\\right)}{C_{5}^{2} + S_{5}^{2}} & \\frac{C_{5} \\left(\\frac{ax \\left(- C_{1} C_{2} S_{3} - C_{1} C_{3} S_{2}\\right)}{C_{1}^{2} C_{2}^{2} C_{3}^{2} + C_{1}^{2} C_{2}^{2} S_{3}^{2} + C_{1}^{2} C_{3}^{2} S_{2}^{2} + C_{1}^{2} S_{2}^{2} S_{3}^{2} + C_{2}^{2} C_{3}^{2} S_{1}^{2} + C_{2}^{2} S_{1}^{2} S_{3}^{2} + C_{3}^{2} S_{1}^{2} S_{2}^{2} + S_{1}^{2} S_{2}^{2} S_{3}^{2}} + \\frac{ay \\left(- C_{2} S_{1} S_{3} - C_{3} S_{1} S_{2}\\right)}{C_{1}^{2} C_{2}^{2} C_{3}^{2} + C_{1}^{2} C_{2}^{2} S_{3}^{2} + C_{1}^{2} C_{3}^{2} S_{2}^{2} + C_{1}^{2} S_{2}^{2} S_{3}^{2} + C_{2}^{2} C_{3}^{2} S_{1}^{2} + C_{2}^{2} S_{1}^{2} S_{3}^{2} + C_{3}^{2} S_{1}^{2} S_{2}^{2} + S_{1}^{2} S_{2}^{2} S_{3}^{2}} + \\frac{az \\left(C_{2} C_{3} - S_{2} S_{3}\\right)}{C_{2}^{2} C_{3}^{2} + C_{2}^{2} S_{3}^{2} + C_{3}^{2} S_{2}^{2} + S_{2}^{2} S_{3}^{2}}\\right)}{C_{5}^{2} + S_{5}^{2}} - \\frac{S_{5} \\left(\\frac{C_{4} \\left(\\frac{ax \\left(C_{1} C_{2} C_{3} - C_{1} S_{2} S_{3}\\right)}{C_{1}^{2} C_{2}^{2} C_{3}^{2} + C_{1}^{2} C_{2}^{2} S_{3}^{2} + C_{1}^{2} C_{3}^{2} S_{2}^{2} + C_{1}^{2} S_{2}^{2} S_{3}^{2} + C_{2}^{2} C_{3}^{2} S_{1}^{2} + C_{2}^{2} S_{1}^{2} S_{3}^{2} + C_{3}^{2} S_{1}^{2} S_{2}^{2} + S_{1}^{2} S_{2}^{2} S_{3}^{2}} + \\frac{ay \\left(C_{2} C_{3} S_{1} - S_{1} S_{2} S_{3}\\right)}{C_{1}^{2} C_{2}^{2} C_{3}^{2} + C_{1}^{2} C_{2}^{2} S_{3}^{2} + C_{1}^{2} C_{3}^{2} S_{2}^{2} + C_{1}^{2} S_{2}^{2} S_{3}^{2} + C_{2}^{2} C_{3}^{2} S_{1}^{2} + C_{2}^{2} S_{1}^{2} S_{3}^{2} + C_{3}^{2} S_{1}^{2} S_{2}^{2} + S_{1}^{2} S_{2}^{2} S_{3}^{2}} + \\frac{az \\left(C_{2} S_{3} + C_{3} S_{2}\\right)}{C_{2}^{2} C_{3}^{2} + C_{2}^{2} S_{3}^{2} + C_{3}^{2} S_{2}^{2} + S_{2}^{2} S_{3}^{2}}\\right)}{C_{4}^{2} + S_{4}^{2}} + \\frac{S_{4} \\left(\\frac{C_{1} ay}{C_{1}^{2} + S_{1}^{2}} - \\frac{S_{1} ax}{C_{1}^{2} + S_{1}^{2}}\\right)}{C_{4}^{2} + S_{4}^{2}}\\right)}{C_{5}^{2} + S_{5}^{2}}\\end{matrix}\\right]$"
            ],
            "text/plain": [
              "Matrix([\n",
              "[C5*(C4*(nx*(C1*C2*C3 - C1*S2*S3)/(C1**2*C2**2*C3**2 + C1**2*C2**2*S3**2 + C1**2*C3**2*S2**2 + C1**2*S2**2*S3**2 + C2**2*C3**2*S1**2 + C2**2*S1**2*S3**2 + C3**2*S1**2*S2**2 + S1**2*S2**2*S3**2) + ny*(C2*C3*S1 - S1*S2*S3)/(C1**2*C2**2*C3**2 + C1**2*C2**2*S3**2 + C1**2*C3**2*S2**2 + C1**2*S2**2*S3**2 + C2**2*C3**2*S1**2 + C2**2*S1**2*S3**2 + C3**2*S1**2*S2**2 + S1**2*S2**2*S3**2) + nz*(C2*S3 + C3*S2)/(C2**2*C3**2 + C2**2*S3**2 + C3**2*S2**2 + S2**2*S3**2))/(C4**2 + S4**2) + S4*(C1*ny/(C1**2 + S1**2) - S1*nx/(C1**2 + S1**2))/(C4**2 + S4**2))/(C5**2 + S5**2) + S5*(nx*(-C1*C2*S3 - C1*C3*S2)/(C1**2*C2**2*C3**2 + C1**2*C2**2*S3**2 + C1**2*C3**2*S2**2 + C1**2*S2**2*S3**2 + C2**2*C3**2*S1**2 + C2**2*S1**2*S3**2 + C3**2*S1**2*S2**2 + S1**2*S2**2*S3**2) + ny*(-C2*S1*S3 - C3*S1*S2)/(C1**2*C2**2*C3**2 + C1**2*C2**2*S3**2 + C1**2*C3**2*S2**2 + C1**2*S2**2*S3**2 + C2**2*C3**2*S1**2 + C2**2*S1**2*S3**2 + C3**2*S1**2*S2**2 + S1**2*S2**2*S3**2) + nz*(C2*C3 - S2*S3)/(C2**2*C3**2 + C2**2*S3**2 + C3**2*S2**2 + S2**2*S3**2))/(C5**2 + S5**2), C5*(C4*(ox*(C1*C2*C3 - C1*S2*S3)/(C1**2*C2**2*C3**2 + C1**2*C2**2*S3**2 + C1**2*C3**2*S2**2 + C1**2*S2**2*S3**2 + C2**2*C3**2*S1**2 + C2**2*S1**2*S3**2 + C3**2*S1**2*S2**2 + S1**2*S2**2*S3**2) + oy*(C2*C3*S1 - S1*S2*S3)/(C1**2*C2**2*C3**2 + C1**2*C2**2*S3**2 + C1**2*C3**2*S2**2 + C1**2*S2**2*S3**2 + C2**2*C3**2*S1**2 + C2**2*S1**2*S3**2 + C3**2*S1**2*S2**2 + S1**2*S2**2*S3**2) + oz*(C2*S3 + C3*S2)/(C2**2*C3**2 + C2**2*S3**2 + C3**2*S2**2 + S2**2*S3**2))/(C4**2 + S4**2) + S4*(C1*oy/(C1**2 + S1**2) - S1*ox/(C1**2 + S1**2))/(C4**2 + S4**2))/(C5**2 + S5**2) + S5*(ox*(-C1*C2*S3 - C1*C3*S2)/(C1**2*C2**2*C3**2 + C1**2*C2**2*S3**2 + C1**2*C3**2*S2**2 + C1**2*S2**2*S3**2 + C2**2*C3**2*S1**2 + C2**2*S1**2*S3**2 + C3**2*S1**2*S2**2 + S1**2*S2**2*S3**2) + oy*(-C2*S1*S3 - C3*S1*S2)/(C1**2*C2**2*C3**2 + C1**2*C2**2*S3**2 + C1**2*C3**2*S2**2 + C1**2*S2**2*S3**2 + C2**2*C3**2*S1**2 + C2**2*S1**2*S3**2 + C3**2*S1**2*S2**2 + S1**2*S2**2*S3**2) + oz*(C2*C3 - S2*S3)/(C2**2*C3**2 + C2**2*S3**2 + C3**2*S2**2 + S2**2*S3**2))/(C5**2 + S5**2), C5*(C4*(ax*(C1*C2*C3 - C1*S2*S3)/(C1**2*C2**2*C3**2 + C1**2*C2**2*S3**2 + C1**2*C3**2*S2**2 + C1**2*S2**2*S3**2 + C2**2*C3**2*S1**2 + C2**2*S1**2*S3**2 + C3**2*S1**2*S2**2 + S1**2*S2**2*S3**2) + ay*(C2*C3*S1 - S1*S2*S3)/(C1**2*C2**2*C3**2 + C1**2*C2**2*S3**2 + C1**2*C3**2*S2**2 + C1**2*S2**2*S3**2 + C2**2*C3**2*S1**2 + C2**2*S1**2*S3**2 + C3**2*S1**2*S2**2 + S1**2*S2**2*S3**2) + az*(C2*S3 + C3*S2)/(C2**2*C3**2 + C2**2*S3**2 + C3**2*S2**2 + S2**2*S3**2))/(C4**2 + S4**2) + S4*(C1*ay/(C1**2 + S1**2) - S1*ax/(C1**2 + S1**2))/(C4**2 + S4**2))/(C5**2 + S5**2) + S5*(ax*(-C1*C2*S3 - C1*C3*S2)/(C1**2*C2**2*C3**2 + C1**2*C2**2*S3**2 + C1**2*C3**2*S2**2 + C1**2*S2**2*S3**2 + C2**2*C3**2*S1**2 + C2**2*S1**2*S3**2 + C3**2*S1**2*S2**2 + S1**2*S2**2*S3**2) + ay*(-C2*S1*S3 - C3*S1*S2)/(C1**2*C2**2*C3**2 + C1**2*C2**2*S3**2 + C1**2*C3**2*S2**2 + C1**2*S2**2*S3**2 + C2**2*C3**2*S1**2 + C2**2*S1**2*S3**2 + C3**2*S1**2*S2**2 + S1**2*S2**2*S3**2) + az*(C2*C3 - S2*S3)/(C2**2*C3**2 + C2**2*S3**2 + C3**2*S2**2 + S2**2*S3**2))/(C5**2 + S5**2)],\n",
              "[                                                                                                                                                                                                                                                                                                                                                                                                                                                                                                             -C4*(C1*ny/(C1**2 + S1**2) - S1*nx/(C1**2 + S1**2))/(-C4**2 - S4**2) - S4*(nx*(C1*C2*C3 - C1*S2*S3)/(C1**2*C2**2*C3**2 + C1**2*C2**2*S3**2 + C1**2*C3**2*S2**2 + C1**2*S2**2*S3**2 + C2**2*C3**2*S1**2 + C2**2*S1**2*S3**2 + C3**2*S1**2*S2**2 + S1**2*S2**2*S3**2) + ny*(C2*C3*S1 - S1*S2*S3)/(C1**2*C2**2*C3**2 + C1**2*C2**2*S3**2 + C1**2*C3**2*S2**2 + C1**2*S2**2*S3**2 + C2**2*C3**2*S1**2 + C2**2*S1**2*S3**2 + C3**2*S1**2*S2**2 + S1**2*S2**2*S3**2) + nz*(C2*S3 + C3*S2)/(C2**2*C3**2 + C2**2*S3**2 + C3**2*S2**2 + S2**2*S3**2))/(C4**2 + S4**2),                                                                                                                                                                                                                                                                                                                                                                                                                                                                                                              -C4*(C1*oy/(C1**2 + S1**2) - S1*ox/(C1**2 + S1**2))/(-C4**2 - S4**2) - S4*(ox*(C1*C2*C3 - C1*S2*S3)/(C1**2*C2**2*C3**2 + C1**2*C2**2*S3**2 + C1**2*C3**2*S2**2 + C1**2*S2**2*S3**2 + C2**2*C3**2*S1**2 + C2**2*S1**2*S3**2 + C3**2*S1**2*S2**2 + S1**2*S2**2*S3**2) + oy*(C2*C3*S1 - S1*S2*S3)/(C1**2*C2**2*C3**2 + C1**2*C2**2*S3**2 + C1**2*C3**2*S2**2 + C1**2*S2**2*S3**2 + C2**2*C3**2*S1**2 + C2**2*S1**2*S3**2 + C3**2*S1**2*S2**2 + S1**2*S2**2*S3**2) + oz*(C2*S3 + C3*S2)/(C2**2*C3**2 + C2**2*S3**2 + C3**2*S2**2 + S2**2*S3**2))/(C4**2 + S4**2),                                                                                                                                                                                                                                                                                                                                                                                                                                                                                                              -C4*(C1*ay/(C1**2 + S1**2) - S1*ax/(C1**2 + S1**2))/(-C4**2 - S4**2) - S4*(ax*(C1*C2*C3 - C1*S2*S3)/(C1**2*C2**2*C3**2 + C1**2*C2**2*S3**2 + C1**2*C3**2*S2**2 + C1**2*S2**2*S3**2 + C2**2*C3**2*S1**2 + C2**2*S1**2*S3**2 + C3**2*S1**2*S2**2 + S1**2*S2**2*S3**2) + ay*(C2*C3*S1 - S1*S2*S3)/(C1**2*C2**2*C3**2 + C1**2*C2**2*S3**2 + C1**2*C3**2*S2**2 + C1**2*S2**2*S3**2 + C2**2*C3**2*S1**2 + C2**2*S1**2*S3**2 + C3**2*S1**2*S2**2 + S1**2*S2**2*S3**2) + az*(C2*S3 + C3*S2)/(C2**2*C3**2 + C2**2*S3**2 + C3**2*S2**2 + S2**2*S3**2))/(C4**2 + S4**2)],\n",
              "[C5*(nx*(-C1*C2*S3 - C1*C3*S2)/(C1**2*C2**2*C3**2 + C1**2*C2**2*S3**2 + C1**2*C3**2*S2**2 + C1**2*S2**2*S3**2 + C2**2*C3**2*S1**2 + C2**2*S1**2*S3**2 + C3**2*S1**2*S2**2 + S1**2*S2**2*S3**2) + ny*(-C2*S1*S3 - C3*S1*S2)/(C1**2*C2**2*C3**2 + C1**2*C2**2*S3**2 + C1**2*C3**2*S2**2 + C1**2*S2**2*S3**2 + C2**2*C3**2*S1**2 + C2**2*S1**2*S3**2 + C3**2*S1**2*S2**2 + S1**2*S2**2*S3**2) + nz*(C2*C3 - S2*S3)/(C2**2*C3**2 + C2**2*S3**2 + C3**2*S2**2 + S2**2*S3**2))/(C5**2 + S5**2) - S5*(C4*(nx*(C1*C2*C3 - C1*S2*S3)/(C1**2*C2**2*C3**2 + C1**2*C2**2*S3**2 + C1**2*C3**2*S2**2 + C1**2*S2**2*S3**2 + C2**2*C3**2*S1**2 + C2**2*S1**2*S3**2 + C3**2*S1**2*S2**2 + S1**2*S2**2*S3**2) + ny*(C2*C3*S1 - S1*S2*S3)/(C1**2*C2**2*C3**2 + C1**2*C2**2*S3**2 + C1**2*C3**2*S2**2 + C1**2*S2**2*S3**2 + C2**2*C3**2*S1**2 + C2**2*S1**2*S3**2 + C3**2*S1**2*S2**2 + S1**2*S2**2*S3**2) + nz*(C2*S3 + C3*S2)/(C2**2*C3**2 + C2**2*S3**2 + C3**2*S2**2 + S2**2*S3**2))/(C4**2 + S4**2) + S4*(C1*ny/(C1**2 + S1**2) - S1*nx/(C1**2 + S1**2))/(C4**2 + S4**2))/(C5**2 + S5**2), C5*(ox*(-C1*C2*S3 - C1*C3*S2)/(C1**2*C2**2*C3**2 + C1**2*C2**2*S3**2 + C1**2*C3**2*S2**2 + C1**2*S2**2*S3**2 + C2**2*C3**2*S1**2 + C2**2*S1**2*S3**2 + C3**2*S1**2*S2**2 + S1**2*S2**2*S3**2) + oy*(-C2*S1*S3 - C3*S1*S2)/(C1**2*C2**2*C3**2 + C1**2*C2**2*S3**2 + C1**2*C3**2*S2**2 + C1**2*S2**2*S3**2 + C2**2*C3**2*S1**2 + C2**2*S1**2*S3**2 + C3**2*S1**2*S2**2 + S1**2*S2**2*S3**2) + oz*(C2*C3 - S2*S3)/(C2**2*C3**2 + C2**2*S3**2 + C3**2*S2**2 + S2**2*S3**2))/(C5**2 + S5**2) - S5*(C4*(ox*(C1*C2*C3 - C1*S2*S3)/(C1**2*C2**2*C3**2 + C1**2*C2**2*S3**2 + C1**2*C3**2*S2**2 + C1**2*S2**2*S3**2 + C2**2*C3**2*S1**2 + C2**2*S1**2*S3**2 + C3**2*S1**2*S2**2 + S1**2*S2**2*S3**2) + oy*(C2*C3*S1 - S1*S2*S3)/(C1**2*C2**2*C3**2 + C1**2*C2**2*S3**2 + C1**2*C3**2*S2**2 + C1**2*S2**2*S3**2 + C2**2*C3**2*S1**2 + C2**2*S1**2*S3**2 + C3**2*S1**2*S2**2 + S1**2*S2**2*S3**2) + oz*(C2*S3 + C3*S2)/(C2**2*C3**2 + C2**2*S3**2 + C3**2*S2**2 + S2**2*S3**2))/(C4**2 + S4**2) + S4*(C1*oy/(C1**2 + S1**2) - S1*ox/(C1**2 + S1**2))/(C4**2 + S4**2))/(C5**2 + S5**2), C5*(ax*(-C1*C2*S3 - C1*C3*S2)/(C1**2*C2**2*C3**2 + C1**2*C2**2*S3**2 + C1**2*C3**2*S2**2 + C1**2*S2**2*S3**2 + C2**2*C3**2*S1**2 + C2**2*S1**2*S3**2 + C3**2*S1**2*S2**2 + S1**2*S2**2*S3**2) + ay*(-C2*S1*S3 - C3*S1*S2)/(C1**2*C2**2*C3**2 + C1**2*C2**2*S3**2 + C1**2*C3**2*S2**2 + C1**2*S2**2*S3**2 + C2**2*C3**2*S1**2 + C2**2*S1**2*S3**2 + C3**2*S1**2*S2**2 + S1**2*S2**2*S3**2) + az*(C2*C3 - S2*S3)/(C2**2*C3**2 + C2**2*S3**2 + C3**2*S2**2 + S2**2*S3**2))/(C5**2 + S5**2) - S5*(C4*(ax*(C1*C2*C3 - C1*S2*S3)/(C1**2*C2**2*C3**2 + C1**2*C2**2*S3**2 + C1**2*C3**2*S2**2 + C1**2*S2**2*S3**2 + C2**2*C3**2*S1**2 + C2**2*S1**2*S3**2 + C3**2*S1**2*S2**2 + S1**2*S2**2*S3**2) + ay*(C2*C3*S1 - S1*S2*S3)/(C1**2*C2**2*C3**2 + C1**2*C2**2*S3**2 + C1**2*C3**2*S2**2 + C1**2*S2**2*S3**2 + C2**2*C3**2*S1**2 + C2**2*S1**2*S3**2 + C3**2*S1**2*S2**2 + S1**2*S2**2*S3**2) + az*(C2*S3 + C3*S2)/(C2**2*C3**2 + C2**2*S3**2 + C3**2*S2**2 + S2**2*S3**2))/(C4**2 + S4**2) + S4*(C1*ay/(C1**2 + S1**2) - S1*ax/(C1**2 + S1**2))/(C4**2 + S4**2))/(C5**2 + S5**2)]])"
            ]
          },
          "execution_count": 82,
          "metadata": {},
          "output_type": "execute_result"
        }
      ],
      "source": [
        "R56"
      ]
    },
    {
      "cell_type": "code",
      "execution_count": null,
      "metadata": {
        "colab": {
          "base_uri": "https://localhost:8080/",
          "height": 78
        },
        "id": "McvaEyUdFZ2D",
        "outputId": "a8b593dc-ae3d-4792-a4e7-f791268255c4"
      },
      "outputs": [
        {
          "data": {
            "text/latex": [
              "$\\displaystyle \\left[\\begin{matrix}C_{6} & - S_{6} & 0\\\\S_{6} & C_{6} & 0\\\\0 & 0 & 1\\end{matrix}\\right]$"
            ],
            "text/plain": [
              "Matrix([\n",
              "[C6, -S6, 0],\n",
              "[S6,  C6, 0],\n",
              "[ 0,   0, 1]])"
            ]
          },
          "execution_count": 83,
          "metadata": {},
          "output_type": "execute_result"
        }
      ],
      "source": [
        "R56izq"
      ]
    },
    {
      "cell_type": "code",
      "execution_count": null,
      "metadata": {
        "colab": {
          "base_uri": "https://localhost:8080/",
          "height": 61
        },
        "id": "cd-V6Xk7JGFn",
        "outputId": "46699387-02aa-4912-8fe8-250cc2b5c7cf"
      },
      "outputs": [
        {
          "data": {
            "text/latex": [
              "$\\displaystyle - C_{1}^{2} C_{2} S_{3} S_{4} nz - C_{1}^{2} C_{3} S_{2} S_{4} nz + C_{1} C_{2}^{2} C_{3}^{2} C_{4} ny + C_{1} C_{2}^{2} C_{4} S_{3}^{2} ny - C_{1} C_{2} C_{3} S_{4} nx + C_{1} C_{3}^{2} C_{4} S_{2}^{2} ny + C_{1} C_{4} S_{2}^{2} S_{3}^{2} ny + C_{1} S_{2} S_{3} S_{4} nx - C_{2}^{2} C_{3}^{2} C_{4} S_{1} nx - C_{2}^{2} C_{4} S_{1} S_{3}^{2} nx - C_{2} C_{3} S_{1} S_{4} ny - C_{2} S_{1}^{2} S_{3} S_{4} nz - C_{3}^{2} C_{4} S_{1} S_{2}^{2} nx - C_{3} S_{1}^{2} S_{2} S_{4} nz - C_{4} S_{1} S_{2}^{2} S_{3}^{2} nx + S_{1} S_{2} S_{3} S_{4} ny$"
            ],
            "text/plain": [
              "-C1**2*C2*S3*S4*nz - C1**2*C3*S2*S4*nz + C1*C2**2*C3**2*C4*ny + C1*C2**2*C4*S3**2*ny - C1*C2*C3*S4*nx + C1*C3**2*C4*S2**2*ny + C1*C4*S2**2*S3**2*ny + C1*S2*S3*S4*nx - C2**2*C3**2*C4*S1*nx - C2**2*C4*S1*S3**2*nx - C2*C3*S1*S4*ny - C2*S1**2*S3*S4*nz - C3**2*C4*S1*S2**2*nx - C3*S1**2*S2*S4*nz - C4*S1*S2**2*S3**2*nx + S1*S2*S3*S4*ny"
            ]
          },
          "execution_count": 91,
          "metadata": {},
          "output_type": "execute_result"
        }
      ],
      "source": [
        "(R56[1,0]*(C1*C1+S1*S1)*(C2*C2+S2*S2)*(cosq3*cosq3+S3*S3)*(C4*C4+S4*S4)).factor()\n",
        "#nx*(-C1C2cosq3S4 + C1S2S3S4 + C4S1(-2))=nx*(-2*C4*S1+C1*S4*(-C2*cosq3+S2*S3))\n",
        "#ny*(C1C4-C2cosq3S1S4+S1S2S3S4)=ny*(C1*C4+S1*S4*(S2*S3-C2*cosq3))\n",
        "#nz*(-C1C1S4(C2S3+cosq3S2)-S1S1S4(C2S3+cosq3S2))=-nz*S4*(C2*S3+cosq3*S2)"
      ]
    },
    {
      "cell_type": "code",
      "execution_count": null,
      "metadata": {
        "colab": {
          "base_uri": "https://localhost:8080/",
          "height": 39
        },
        "id": "v1OHG0k2K-Ub",
        "outputId": "c7c1322a-f10d-473d-ef25-1e2341e593ff"
      },
      "outputs": [
        {
          "data": {
            "text/latex": [
              "$\\displaystyle S_{6}$"
            ],
            "text/plain": [
              "S6"
            ]
          },
          "execution_count": 92,
          "metadata": {},
          "output_type": "execute_result"
        }
      ],
      "source": [
        "R56izq[1,0]\n",
        "#q6=np.arcsin(nx*(-2*C4*S1+C1*S4*(-C2*cosq3+S2*S3))+ny*(C1*C4+S1*S4*(S2*S3-C2*cosq3))-nz*S4*(C2*S3+cosq3*S2))"
      ]
    }
  ],
  "metadata": {
    "colab": {
      "provenance": []
    },
    "kernelspec": {
      "display_name": "Python 3",
      "name": "python3"
    },
    "language_info": {
      "codemirror_mode": {
        "name": "ipython",
        "version": 3
      },
      "file_extension": ".py",
      "mimetype": "text/x-python",
      "name": "python",
      "nbconvert_exporter": "python",
      "pygments_lexer": "ipython3",
      "version": "3.11.4"
    }
  },
  "nbformat": 4,
  "nbformat_minor": 0
}
